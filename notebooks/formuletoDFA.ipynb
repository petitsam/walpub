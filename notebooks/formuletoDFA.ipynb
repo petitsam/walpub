{
 "cells": [
  {
   "cell_type": "markdown",
   "id": "f896fc21",
   "metadata": {
    "slideshow": {
     "slide_type": "slide"
    }
   },
   "source": [
    "# Walnut\n",
    "### Des prédicats aux automates, visite dans les entrailles de walnut.\n",
    "\n",
    "#### <b class=\"cool\">Samuel Nalin</b>\n",
    "<img style=\"width:50%; height: auto;\" src=\"img/lifo_and_univ.png\">\n",
    "\n",
    "### 27 mars 2023, Squirrel club 🐿\n",
    "$\\renewcommand{\\S}[1]{\\Sigma_{{#1}}}$ \n",
    "$\\renewcommand{\\Sp}[1]{\\Sigma_{{#1}}'}$ \n",
    "$\\renewcommand{\\Spp}[1]{\\Sigma_{{#1}}''}$"
   ]
  },
  {
   "cell_type": "markdown",
   "id": "c7d31ae9",
   "metadata": {
    "slideshow": {
     "slide_type": "slide"
    }
   },
   "source": [
    "## En bref\n",
    "\n",
    "Walnut est un outil qui permet d'évaluer des formules de l'arithmétique de Büchi, pour ce faire la formule considérée est lue en forme postfixe et chaque sous formule est traitée comme une opération sur des automates finis déterministes.\n",
    "\n",
    "Cette présentation a pour but de présenter cette évaluation, de décrire  en pratique comment ces opérations sont traitées par Walnut.\n",
    "(*i. e.* l'effet des commandes <b class=\"cool\">def</b> et <b class =\"cool\">eval</b>)."
   ]
  },
  {
   "cell_type": "markdown",
   "id": "989a8190",
   "metadata": {
    "slideshow": {
     "slide_type": "slide"
    }
   },
   "source": [
    "## Système numération\n",
    "\n",
    "Walnut permet l'utilisation de différents <b class=\"cool\">systèmes de numération</b>.\n",
    "\n",
    "Pour définir un système de numération à Walnut, il est nécessaire de décrire les automates  de la <b class=\"cool\"> représentation </b> et de <b class=\"cool\">l'addition</b>. \n",
    "Walnut considère ensuite l'ordre lexicographique pour traiter <b class=\"cool\">l'égalité</b> et la <b class=\"cool\">comparaison</b>.\n",
    "\n",
    "Remarque : dans tout système de numération, les nombres $0$ et $1$ doivent être codés par $0$ et $1$ respectivement.\n",
    "\n",
    "Par exemple, pour msd_2, les automates sont les suivants :"
   ]
  },
  {
   "cell_type": "markdown",
   "id": "d339b179",
   "metadata": {
    "slideshow": {
     "slide_type": "-"
    }
   },
   "source": [
    "<img style=\"height:100%;\" src=\"img/msd_2/Rmsd2.svg\">\n",
    "<img style=\"height:100%; position:absolute; float:left; left:0px; bottom:0px;\" src=\"img/msd_2/Rmsd2.svg\">\n",
    "<img style=\"height:100%; position:absolute; float:right; right:0px; bottom:0px\" src=\"img/msd_2/equalmsd2.svg\">"
   ]
  },
  {
   "cell_type": "markdown",
   "id": "1357ac4b",
   "metadata": {
    "slideshow": {
     "slide_type": "-"
    }
   },
   "source": [
    "<img style=\"height:100%;\" src=\"img/msd_2/plusmsd2.svg\">\n",
    "<img style=\"height:100%; position:absolute; float:left; left:0px; bottom:0px;\" src=\"img/msd_2/plusmsd2.svg\">\n",
    "<img style=\"height:100%; position:absolute; float:right; right:0px; bottom:0px\" src=\"img/msd_2/leqmsd2.svg\">"
   ]
  },
  {
   "cell_type": "markdown",
   "id": "abd693e6",
   "metadata": {
    "slideshow": {
     "slide_type": "slide"
    }
   },
   "source": [
    "## Formules, DFA, même combat\n",
    "\n",
    "Walnut traduit les <b class=\"cool\">prédicats</b> qui lui sont donnés en des <b class=\"cool\">automates finis déterministes</b>."
   ]
  },
  {
   "cell_type": "markdown",
   "id": "3316c536",
   "metadata": {
    "slideshow": {
     "slide_type": "-"
    }
   },
   "source": [
    "Un <b class=\"gelb\">terme arithmétique</b> peut être :\n",
    "* une constante arithmétique ($\\in \\mathbb{N}$),\n",
    "* une variable,\n",
    "* $x_1+x_2$ ou $x_1-x_2$ avec $x_1$ et $x_2$ des termes arithmétiques,\n",
    "* $x*n$ ou $n*x$ ou $x/n$ avec $x$ un terme arithmétique et $n$ une constante arithmétique.\n",
    "\n",
    "Un <b class=\"blau\">terme d'indexation</b> peut être :\n",
    "* une constante alphabétique,\n",
    "* $W[e_1]\\cdots[e_m]$ l'indexation d'un mot automatique $W$ avec $e_i$ un terme arithmétique ou un prédicat à une variable libre.\n",
    "\n",
    "Un <b class=\"cool\">prédicat</b> peut être :\n",
    "* $t_1 \\triangleleft t_2$ avec $t_1$ et $t_2$ des termes de même type et $\\triangleleft \\in \\lbrace =,<,<=,>,>=\\rbrace$ un opérateur de comparaison,\n",
    "* $\\$P(e_1,\\cdots,e_m)$ l'appel à un prédicat $P$ avec $e_i$ un terme arithmétique ou un prédicat à une variable libre,\n",
    "* $\\sim P$ avec $P$ un prédicat,\n",
    "* $P_1 \\diamond P_2$ avec $P_1$ et $P_2$ des prédicats et $\\diamond \\in \\lbrace \\&, |, \\hat~, =>, <=> \\rbrace$ un opérateur logique,\n",
    "* $\\text{E}x P$ ou $\\text{A}x P$ avec $P$ un prédicat et $x$ une variable libre."
   ]
  },
  {
   "cell_type": "markdown",
   "id": "17ae6218",
   "metadata": {
    "slideshow": {
     "slide_type": "slide"
    }
   },
   "source": [
    "Un <span class=\"cool\">prédicat</span> $P$ de variables libres $x_1,...,x_n$ est représenté par le <b class=\"cool\">DFA</b> $M = (Q, \\S{1},\\cdots,\\S{n}, q_0, F, \\delta)$ avec\n",
    "* $Q$ son ensemble fini d'états,\n",
    "* $\\S{i}$ l'alphabet de $S_i$ avec $1 \\leq i \\leq n$ et où $S_i$ est le système de numération de $x_i$,\n",
    "* $q_0 \\in Q$ son état initial,\n",
    "* $F$ ses états acceptants,\n",
    "* $\\delta : Q \\times \\S{1} \\times \\cdots \\times \\S{n} \\rightarrow Q$ sa fonction partielle de transition."
   ]
  },
  {
   "cell_type": "code",
   "execution_count": 42,
   "id": "f6cdae43",
   "metadata": {
    "slideshow": {
     "slide_type": "skip"
    }
   },
   "outputs": [
    {
     "name": "stdout",
     "output_type": "stream",
     "text": [
      "\n",
      "____\n",
      "TRUE\n",
      "\n"
     ]
    }
   ],
   "source": [
    "def factorEq \"Ak k<n => T[i+k]=T[j+k]\";\n",
    "eval thueinf \"At,i Ej (j>i) & $factorEq(i,j,t)\";"
   ]
  },
  {
   "cell_type": "markdown",
   "id": "f1c00dbd",
   "metadata": {
    "slideshow": {
     "slide_type": "slide"
    }
   },
   "source": [
    "Illustrons sur l'exemple suivant le cheminement de Walmut pour évaluer une formule."
   ]
  },
  {
   "cell_type": "code",
   "execution_count": 1,
   "id": "5a111ad9",
   "metadata": {},
   "outputs": [
    {
     "name": "stdout",
     "output_type": "stream",
     "text": [
      "\r\n"
     ]
    }
   ],
   "source": [
    "def factorEq \"Ak k<n => T[i+k]=T[j+k]\";"
   ]
  },
  {
   "cell_type": "markdown",
   "id": "3c580c2d",
   "metadata": {},
   "source": [
    "La formule est transformée sous forme postfixe dans une file :"
   ]
  },
  {
   "cell_type": "markdown",
   "id": "640a33da",
   "metadata": {
    "slideshow": {
     "slide_type": "-"
    }
   },
   "source": [
    "<img style=\"width:100%\" src=\"img/lifo/FIFO.svg\">"
   ]
  },
  {
   "cell_type": "markdown",
   "id": "2e343ee3",
   "metadata": {},
   "source": [
    "La formule est reconstituée sous forme d'automate au moyen d'une pile, dont voici l'évolution sur l'exemple :"
   ]
  },
  {
   "cell_type": "markdown",
   "id": "732f1bd4",
   "metadata": {
    "slideshow": {
     "slide_type": "-"
    }
   },
   "source": [
    "<img style=\"width:100%\" src=\"img/lifo/LIFO.svg\">"
   ]
  },
  {
   "cell_type": "markdown",
   "id": "b113df0f",
   "metadata": {
    "slideshow": {
     "slide_type": "-"
    }
   },
   "source": [
    "Après chaque étape, le DFA obtenu est minimisé et émondé de son état puit."
   ]
  },
  {
   "cell_type": "markdown",
   "id": "0453eb0a",
   "metadata": {
    "slideshow": {
     "slide_type": "slide"
    }
   },
   "source": [
    "## Plan de route"
   ]
  },
  {
   "cell_type": "markdown",
   "id": "7a85b3be",
   "metadata": {
    "slideshow": {
     "slide_type": "-"
    }
   },
   "source": [
    "Il est donc nécessaire de décrire toutes les opérations sur les automates utilisées par Walnut :\n",
    "\n",
    "* <span class=\"\">Les opérations sur les prédicats,</span>\n",
    "    * <b class=\"cool\">Les opérateurs de logique d'arité 2</b>\n",
    "    * <span class=\"\">la négation</span>\n",
    "    * <span class=\"\">La quantification</span>\n",
    "* <span class=\"\">Les opérations sur les termes arithmétiques,</span>\n",
    "* <span class=\"\">L'appel à des prédicats préfinis,</span>\n",
    "* <span class=\"\">Les opérations sur les termes d'indexation de mots automatiques.</span>"
   ]
  },
  {
   "cell_type": "markdown",
   "id": "487d9ea6",
   "metadata": {
    "slideshow": {
     "slide_type": "slide"
    }
   },
   "source": [
    "## Produit synchronisé : outil clef des opérateurs logiques\n",
    "\n",
    "Soient $M = (Q, \\S{1},\\cdots,\\S{m}, q_0, F, \\delta)$ et $M' = (Q', \\Sp{1},\\cdots,\\Sp{n}, q_0', F', \\delta')$ les automates représentant les prédicats $P(x_1, \\cdots, x_m)$ et $P'(x_1', \\cdots, x_n')$ \n",
    "avec $S_i=S'_j$ si $x_i=x_j'$.\n",
    "\n",
    "On cherche à construire l'automate $M''$ représentant le prédicat $(P\\diamond P')(x_1'', \\cdots, x_p'')$ avec $\\diamond \\in \\lbrace \\land, \\lor, \\oplus, \\Rightarrow, \\Leftrightarrow \\rbrace$ et $\\lbrace x_1'' \\cdots x_p'' \\rbrace = \\lbrace x_1 \\cdots x_m \\rbrace \\cup \\lbrace x_1' \\cdots x_n' \\rbrace$ \n",
    "(ordonné lexicographiquement).\n",
    "\n",
    "On construit le DFA $A = (Q'', \\Spp{1}, \\cdots, \\Spp{p}, q_0'', F'', \\delta'')$ avec :\n",
    "\n",
    "* $Q'' = Q \\times Q'$,\n",
    "* $\\Spp{k} = \\S{i}$ si $x_k''=x_i$ ou  $\\Spp{k} =\\Sp{j}$ si $x_k''=x_j'$,\n",
    "* $q_0'' = (q_0,q_0')$,\n",
    "* $F'' = \\lbrace (q,q') ~|~ (q \\in F) \\diamond (q' \\in F')\\rbrace$,\n",
    "* $\\delta''((q,q'), c_1, \\cdots, c_p) = (\\delta(q, a_1, \\cdots, a_m), \\delta'(q', b_1, \\cdots, b_n))$\n",
    "avec $a_i \\in \\S{i}, b_j \\in \\Sp{i}, c_k \\in \\Spp{i}$, $a_i=c_k$ si $x_i=x_k''$ et $b_j=c_k$ si $x_j'=x_k''$.\n",
    "\n",
    "<b class=\"cool\">$M''$ est l'automate résultant de la minimisation de $A$.</b>"
   ]
  },
  {
   "cell_type": "markdown",
   "id": "c65da617",
   "metadata": {
    "slideshow": {
     "slide_type": "slide"
    }
   },
   "source": [
    "#### Exemple pour  $~(a,b): a=1~ \\& ~b=2$"
   ]
  },
  {
   "cell_type": "markdown",
   "id": "aa1058ae",
   "metadata": {
    "slideshow": {
     "slide_type": "-"
    }
   },
   "source": [
    "<img style=\"height:100%;\" src=\"img/synchro/a=1.svg\">\n",
    "<img style=\"height:100%; position:absolute; float:left; left:0px; bottom:0px;\" src=\"img/synchro/a=1.svg\">\n",
    "<img style=\"height:100%; position:absolute; float:right; right:0px; bottom:0px\" src=\"img/synchro/b=2.svg\">"
   ]
  },
  {
   "cell_type": "markdown",
   "id": "22171c78",
   "metadata": {
    "slideshow": {
     "slide_type": "fragment"
    }
   },
   "source": [
    "produit synchronisé avec $F'' = \\lbrace (q,q') ~|~ (q \\in F) \\land (q' \\in F')\\rbrace$ :"
   ]
  },
  {
   "cell_type": "markdown",
   "id": "d06968d9",
   "metadata": {
    "slideshow": {
     "slide_type": "-"
    }
   },
   "source": [
    "<img style=\"height:100%\" src=\"img/synchro/a=1crossb=2.svg\">"
   ]
  },
  {
   "cell_type": "markdown",
   "id": "9448267c",
   "metadata": {
    "slideshow": {
     "slide_type": "fragment"
    }
   },
   "source": [
    "Minimisation :"
   ]
  },
  {
   "cell_type": "markdown",
   "id": "1d2eebd2",
   "metadata": {
    "slideshow": {
     "slide_type": "-"
    }
   },
   "source": [
    "<img style=\"height:100%\" src=\"img/synchro/a=1andb=2.svg\">"
   ]
  },
  {
   "cell_type": "markdown",
   "id": "972fb9eb",
   "metadata": {
    "slideshow": {
     "slide_type": "slide"
    }
   },
   "source": [
    "C'est effectivement ce que fait Walnut :"
   ]
  },
  {
   "cell_type": "code",
   "execution_count": 44,
   "id": "d3c4851a",
   "metadata": {
    "slideshow": {
     "slide_type": "-"
    }
   },
   "outputs": [
    {
     "name": "stdout",
     "output_type": "stream",
     "text": [
      "computing a=1\r\n",
      "computed a=1\r\n",
      "a=1:2 states - 0ms\r\n",
      " computing b=2\r\n",
      " computed b=2\r\n",
      " b=2:3 states - 1ms\r\n",
      "  computing a=1&b=2\r\n",
      "   computing &:2 states - 3 states\r\n",
      "   computing cross product:2 states - 3 states\r\n",
      "   computed cross product:6 states - 0ms\r\n",
      "-----     Minimizing: 6 states.\r\n",
      "     determinizing:6 states\r\n",
      "     determinized:6 states - 1ms\r\n",
      "-----     Minimized:3 states - 1ms.\r\n",
      "    Minimized:3 states - 1ms.\r\n",
      "   computed &:3 states - 4ms\r\n",
      "  computed a=1&b=2\r\n",
      "  (a=1&b=2):3 states - 4ms\r\n",
      "Total computation time: 5ms.\r\n",
      "\r\n"
     ]
    }
   ],
   "source": [
    "eval testET \"a=1 & b=2\"::"
   ]
  },
  {
   "cell_type": "code",
   "execution_count": 45,
   "id": "d766a255",
   "metadata": {
    "slideshow": {
     "slide_type": "-"
    }
   },
   "outputs": [
    {
     "data": {
      "text/html": [
       "<?xml version=\"1.0\" encoding=\"UTF-8\" standalone=\"no\"?>\n",
       "<!DOCTYPE svg PUBLIC \"-//W3C//DTD SVG 1.1//EN\"\n",
       " \"http://www.w3.org/Graphics/SVG/1.1/DTD/svg11.dtd\">\n",
       "<!-- Generated by graphviz version 2.43.0 (0)\n",
       " -->\n",
       "<!-- Title: G Pages: 1 -->\n",
       "<svg width=\"305pt\" height=\"104pt\"\n",
       " viewBox=\"0.00 0.00 304.60 104.00\" xmlns=\"http://www.w3.org/2000/svg\" xmlns:xlink=\"http://www.w3.org/1999/xlink\">\n",
       "<g id=\"graph0\" class=\"graph\" transform=\"scale(1 1) rotate(0) translate(4 100)\">\n",
       "<title>G</title>\n",
       "<polygon fill=\"white\" stroke=\"transparent\" points=\"-4,4 -4,-100 300.6,-100 300.6,4 -4,4\"/>\n",
       "<text text-anchor=\"middle\" x=\"148.3\" y=\"-7.8\" font-family=\"Times,serif\" font-size=\"14.00\">(a,b): a=1 &amp; b=2</text>\n",
       "<!-- 0 -->\n",
       "<g id=\"node1\" class=\"node\">\n",
       "<title>0</title>\n",
       "<ellipse fill=\"none\" stroke=\"black\" cx=\"58.6\" cy=\"-45\" rx=\"18\" ry=\"18\"/>\n",
       "<text text-anchor=\"middle\" x=\"58.6\" y=\"-41.9\" font-family=\"Times,serif\" font-size=\"12.00\">0</text>\n",
       "</g>\n",
       "<!-- 0&#45;&gt;0 -->\n",
       "<g id=\"edge2\" class=\"edge\">\n",
       "<title>0&#45;&gt;0</title>\n",
       "<path fill=\"none\" stroke=\"black\" d=\"M52.22,-62.04C50.92,-71.86 53.05,-81 58.6,-81 62.07,-81 64.2,-77.43 65,-72.35\"/>\n",
       "<polygon fill=\"black\" stroke=\"black\" points=\"68.5,-72.03 64.98,-62.04 61.5,-72.04 68.5,-72.03\"/>\n",
       "<text text-anchor=\"middle\" x=\"58.6\" y=\"-84.8\" font-family=\"Times,serif\" font-size=\"14.00\">[0,0]</text>\n",
       "</g>\n",
       "<!-- 1 -->\n",
       "<g id=\"node2\" class=\"node\">\n",
       "<title>1</title>\n",
       "<ellipse fill=\"none\" stroke=\"black\" cx=\"164.6\" cy=\"-45\" rx=\"18\" ry=\"18\"/>\n",
       "<text text-anchor=\"middle\" x=\"164.6\" y=\"-41.9\" font-family=\"Times,serif\" font-size=\"12.00\">1</text>\n",
       "</g>\n",
       "<!-- 0&#45;&gt;1 -->\n",
       "<g id=\"edge3\" class=\"edge\">\n",
       "<title>0&#45;&gt;1</title>\n",
       "<path fill=\"none\" stroke=\"black\" d=\"M76.77,-45C92.96,-45 117.47,-45 136.33,-45\"/>\n",
       "<polygon fill=\"black\" stroke=\"black\" points=\"136.4,-48.5 146.4,-45 136.4,-41.5 136.4,-48.5\"/>\n",
       "<text text-anchor=\"middle\" x=\"111.6\" y=\"-48.8\" font-family=\"Times,serif\" font-size=\"14.00\">[0,1]</text>\n",
       "</g>\n",
       "<!-- 2 -->\n",
       "<g id=\"node3\" class=\"node\">\n",
       "<title>2</title>\n",
       "<ellipse fill=\"none\" stroke=\"black\" cx=\"274.6\" cy=\"-45\" rx=\"18\" ry=\"18\"/>\n",
       "<ellipse fill=\"none\" stroke=\"black\" cx=\"274.6\" cy=\"-45\" rx=\"22\" ry=\"22\"/>\n",
       "<text text-anchor=\"middle\" x=\"274.6\" y=\"-41.9\" font-family=\"Times,serif\" font-size=\"12.00\">2</text>\n",
       "</g>\n",
       "<!-- 1&#45;&gt;2 -->\n",
       "<g id=\"edge4\" class=\"edge\">\n",
       "<title>1&#45;&gt;2</title>\n",
       "<path fill=\"none\" stroke=\"black\" d=\"M182.95,-45C198.95,-45 223.08,-45 242.42,-45\"/>\n",
       "<polygon fill=\"black\" stroke=\"black\" points=\"242.59,-48.5 252.59,-45 242.59,-41.5 242.59,-48.5\"/>\n",
       "<text text-anchor=\"middle\" x=\"217.6\" y=\"-48.8\" font-family=\"Times,serif\" font-size=\"14.00\">[1,0]</text>\n",
       "</g>\n",
       "<!-- qi -->\n",
       "<g id=\"node4\" class=\"node\">\n",
       "<title>qi</title>\n",
       "<ellipse fill=\"black\" stroke=\"black\" cx=\"1.8\" cy=\"-45\" rx=\"1.8\" ry=\"1.8\"/>\n",
       "</g>\n",
       "<!-- qi&#45;&gt;0 -->\n",
       "<g id=\"edge1\" class=\"edge\">\n",
       "<title>qi&#45;&gt;0</title>\n",
       "<path fill=\"none\" stroke=\"black\" d=\"M3.75,-45C7.11,-45 18.87,-45 30.55,-45\"/>\n",
       "<polygon fill=\"black\" stroke=\"black\" points=\"30.58,-48.5 40.58,-45 30.58,-41.5 30.58,-48.5\"/>\n",
       "</g>\n",
       "<!-- \\n -->\n",
       "<g id=\"node5\" class=\"node\">\n",
       "<title>\\n</title>\n",
       "<ellipse fill=\"black\" stroke=\"black\" cx=\"1.8\" cy=\"-67\" rx=\"1.8\" ry=\"1.8\"/>\n",
       "</g>\n",
       "</g>\n",
       "</svg>\n"
      ],
      "text/plain": [
       "<IPython.core.display.HTML object>"
      ]
     },
     "metadata": {},
     "output_type": "display_data"
    }
   ],
   "source": [
    "%showme testET"
   ]
  },
  {
   "cell_type": "markdown",
   "id": "baffdedc",
   "metadata": {
    "slideshow": {
     "slide_type": "slide"
    }
   },
   "source": [
    "⚠️ Pour toute opération autre que la conjonction (le &), il est nécessaire que les automates soient <b class=\"cool\">complets</b> !\n",
    "\n",
    "Walnut purge ses automates de leurs états puit. Une étape de complétion est donc effectuée sur chaque DFA avant le produit synchronisé."
   ]
  },
  {
   "cell_type": "code",
   "execution_count": 46,
   "id": "ad4c4fc7",
   "metadata": {
    "slideshow": {
     "slide_type": "-"
    }
   },
   "outputs": [
    {
     "name": "stdout",
     "output_type": "stream",
     "text": [
      "computing a=1\r\n",
      "computed a=1\r\n",
      "a=1:2 states - 0ms\r\n",
      " computing b=2\r\n",
      " computed b=2\r\n",
      " b=2:3 states - 0ms\r\n",
      "  computing a=1|b=2\r\n",
      "   computing |:2 states - 3 states\r\n",
      "    totalizing:2 states\r\n",
      "    totalized:3 states - 0ms\r\n",
      "    totalizing:3 states\r\n",
      "    totalized:4 states - 0ms\r\n",
      "   computing cross product:3 states - 4 states\r\n",
      "   computed cross product:12 states - 0ms\r\n",
      "-----     Minimizing: 12 states.\r\n",
      "     determinizing:12 states\r\n",
      "     determinized:12 states - 1ms\r\n",
      "-----     Minimized:9 states - 1ms.\r\n",
      "    Minimized:9 states - 1ms.\r\n",
      "   computed |:9 states - 1ms\r\n",
      "  computed a=1|b=2\r\n",
      "  (a=1|b=2):9 states - 2ms\r\n",
      "Total computation time: 2ms.\r\n",
      "\r\n"
     ]
    }
   ],
   "source": [
    "eval testOU \"a=1 | b=2\"::"
   ]
  },
  {
   "cell_type": "code",
   "execution_count": 47,
   "id": "b1d17542",
   "metadata": {
    "slideshow": {
     "slide_type": "-"
    }
   },
   "outputs": [
    {
     "data": {
      "text/html": [
       "<?xml version=\"1.0\" encoding=\"UTF-8\" standalone=\"no\"?>\n",
       "<!DOCTYPE svg PUBLIC \"-//W3C//DTD SVG 1.1//EN\"\n",
       " \"http://www.w3.org/Graphics/SVG/1.1/DTD/svg11.dtd\">\n",
       "<!-- Generated by graphviz version 2.43.0 (0)\n",
       " -->\n",
       "<!-- Title: G Pages: 1 -->\n",
       "<svg width=\"731pt\" height=\"333pt\"\n",
       " viewBox=\"0.00 0.00 730.60 333.36\" xmlns=\"http://www.w3.org/2000/svg\" xmlns:xlink=\"http://www.w3.org/1999/xlink\">\n",
       "<g id=\"graph0\" class=\"graph\" transform=\"scale(1 1) rotate(0) translate(4 329.36)\">\n",
       "<title>G</title>\n",
       "<polygon fill=\"white\" stroke=\"transparent\" points=\"-4,4 -4,-329.36 726.6,-329.36 726.6,4 -4,4\"/>\n",
       "<text text-anchor=\"middle\" x=\"361.3\" y=\"-7.8\" font-family=\"Times,serif\" font-size=\"14.00\">(a,b): a=1 | b=2</text>\n",
       "<!-- 0 -->\n",
       "<g id=\"node1\" class=\"node\">\n",
       "<title>0</title>\n",
       "<ellipse fill=\"none\" stroke=\"black\" cx=\"58.6\" cy=\"-133.36\" rx=\"18\" ry=\"18\"/>\n",
       "<text text-anchor=\"middle\" x=\"58.6\" y=\"-130.26\" font-family=\"Times,serif\" font-size=\"12.00\">0</text>\n",
       "</g>\n",
       "<!-- 0&#45;&gt;0 -->\n",
       "<g id=\"edge2\" class=\"edge\">\n",
       "<title>0&#45;&gt;0</title>\n",
       "<path fill=\"none\" stroke=\"black\" d=\"M52.22,-150.4C50.92,-160.22 53.05,-169.36 58.6,-169.36 62.07,-169.36 64.2,-165.79 65,-160.72\"/>\n",
       "<polygon fill=\"black\" stroke=\"black\" points=\"68.5,-160.4 64.98,-150.4 61.5,-160.41 68.5,-160.4\"/>\n",
       "<text text-anchor=\"middle\" x=\"58.6\" y=\"-173.16\" font-family=\"Times,serif\" font-size=\"14.00\">[0,0]</text>\n",
       "</g>\n",
       "<!-- 1 -->\n",
       "<g id=\"node2\" class=\"node\">\n",
       "<title>1</title>\n",
       "<ellipse fill=\"none\" stroke=\"black\" cx=\"168.6\" cy=\"-246.36\" rx=\"18\" ry=\"18\"/>\n",
       "<ellipse fill=\"none\" stroke=\"black\" cx=\"168.6\" cy=\"-246.36\" rx=\"22\" ry=\"22\"/>\n",
       "<text text-anchor=\"middle\" x=\"168.6\" y=\"-243.26\" font-family=\"Times,serif\" font-size=\"12.00\">1</text>\n",
       "</g>\n",
       "<!-- 0&#45;&gt;1 -->\n",
       "<g id=\"edge3\" class=\"edge\">\n",
       "<title>0&#45;&gt;1</title>\n",
       "<path fill=\"none\" stroke=\"black\" d=\"M71.57,-145.89C89.43,-164.58 123.35,-200.07 145.72,-223.47\"/>\n",
       "<polygon fill=\"black\" stroke=\"black\" points=\"143.38,-226.09 152.82,-230.9 148.44,-221.25 143.38,-226.09\"/>\n",
       "<text text-anchor=\"middle\" x=\"111.6\" y=\"-207.16\" font-family=\"Times,serif\" font-size=\"14.00\">[1,0]</text>\n",
       "</g>\n",
       "<!-- 2 -->\n",
       "<g id=\"node3\" class=\"node\">\n",
       "<title>2</title>\n",
       "<ellipse fill=\"none\" stroke=\"black\" cx=\"168.6\" cy=\"-133.36\" rx=\"18\" ry=\"18\"/>\n",
       "<text text-anchor=\"middle\" x=\"168.6\" y=\"-130.26\" font-family=\"Times,serif\" font-size=\"12.00\">2</text>\n",
       "</g>\n",
       "<!-- 0&#45;&gt;2 -->\n",
       "<g id=\"edge4\" class=\"edge\">\n",
       "<title>0&#45;&gt;2</title>\n",
       "<path fill=\"none\" stroke=\"black\" d=\"M76.95,-133.36C94.04,-133.36 120.38,-133.36 140.28,-133.36\"/>\n",
       "<polygon fill=\"black\" stroke=\"black\" points=\"140.29,-136.86 150.29,-133.36 140.29,-129.86 140.29,-136.86\"/>\n",
       "<text text-anchor=\"middle\" x=\"111.6\" y=\"-137.16\" font-family=\"Times,serif\" font-size=\"14.00\">[0,1]</text>\n",
       "</g>\n",
       "<!-- 3 -->\n",
       "<g id=\"node4\" class=\"node\">\n",
       "<title>3</title>\n",
       "<ellipse fill=\"none\" stroke=\"black\" cx=\"246.6\" cy=\"-50.36\" rx=\"18\" ry=\"18\"/>\n",
       "<ellipse fill=\"none\" stroke=\"black\" cx=\"246.6\" cy=\"-50.36\" rx=\"22\" ry=\"22\"/>\n",
       "<text text-anchor=\"middle\" x=\"246.6\" y=\"-47.26\" font-family=\"Times,serif\" font-size=\"12.00\">3</text>\n",
       "</g>\n",
       "<!-- 0&#45;&gt;3 -->\n",
       "<g id=\"edge5\" class=\"edge\">\n",
       "<title>0&#45;&gt;3</title>\n",
       "<path fill=\"none\" stroke=\"black\" d=\"M74.77,-124.72C80.86,-121.35 88,-117.55 94.6,-114.36 136.08,-94.37 185.41,-74.1 216.12,-61.88\"/>\n",
       "<polygon fill=\"black\" stroke=\"black\" points=\"217.77,-64.99 225.78,-58.05 215.2,-58.48 217.77,-64.99\"/>\n",
       "<text text-anchor=\"middle\" x=\"111.6\" y=\"-118.16\" font-family=\"Times,serif\" font-size=\"14.00\">[1,1]</text>\n",
       "</g>\n",
       "<!-- 4 -->\n",
       "<g id=\"node5\" class=\"node\">\n",
       "<title>4</title>\n",
       "<ellipse fill=\"none\" stroke=\"black\" cx=\"340.6\" cy=\"-246.36\" rx=\"18\" ry=\"18\"/>\n",
       "<text text-anchor=\"middle\" x=\"340.6\" y=\"-243.26\" font-family=\"Times,serif\" font-size=\"12.00\">4</text>\n",
       "</g>\n",
       "<!-- 1&#45;&gt;4 -->\n",
       "<g id=\"edge6\" class=\"edge\">\n",
       "<title>1&#45;&gt;4</title>\n",
       "<path fill=\"none\" stroke=\"black\" d=\"M190.79,-246.36C221.47,-246.36 278.29,-246.36 312.14,-246.36\"/>\n",
       "<polygon fill=\"black\" stroke=\"black\" points=\"312.27,-249.86 322.27,-246.36 312.27,-242.86 312.27,-249.86\"/>\n",
       "<text text-anchor=\"middle\" x=\"246.6\" y=\"-250.16\" font-family=\"Times,serif\" font-size=\"14.00\">[0,0], [1,0]</text>\n",
       "</g>\n",
       "<!-- 5 -->\n",
       "<g id=\"node6\" class=\"node\">\n",
       "<title>5</title>\n",
       "<ellipse fill=\"none\" stroke=\"black\" cx=\"528.6\" cy=\"-271.36\" rx=\"18\" ry=\"18\"/>\n",
       "<text text-anchor=\"middle\" x=\"528.6\" y=\"-268.26\" font-family=\"Times,serif\" font-size=\"12.00\">5</text>\n",
       "</g>\n",
       "<!-- 1&#45;&gt;5 -->\n",
       "<g id=\"edge7\" class=\"edge\">\n",
       "<title>1&#45;&gt;5</title>\n",
       "<path fill=\"none\" stroke=\"black\" d=\"M187.66,-257.61C212.46,-272.32 258.96,-297.26 302.6,-306.36 374.46,-321.35 460.45,-296.18 502.27,-281.23\"/>\n",
       "<polygon fill=\"black\" stroke=\"black\" points=\"503.5,-284.5 511.68,-277.76 501.08,-277.93 503.5,-284.5\"/>\n",
       "<text text-anchor=\"middle\" x=\"340.6\" y=\"-314.16\" font-family=\"Times,serif\" font-size=\"14.00\">[0,1], [1,1]</text>\n",
       "</g>\n",
       "<!-- 6 -->\n",
       "<g id=\"node7\" class=\"node\">\n",
       "<title>6</title>\n",
       "<ellipse fill=\"none\" stroke=\"black\" cx=\"340.6\" cy=\"-188.36\" rx=\"18\" ry=\"18\"/>\n",
       "<ellipse fill=\"none\" stroke=\"black\" cx=\"340.6\" cy=\"-188.36\" rx=\"22\" ry=\"22\"/>\n",
       "<text text-anchor=\"middle\" x=\"340.6\" y=\"-185.26\" font-family=\"Times,serif\" font-size=\"12.00\">6</text>\n",
       "</g>\n",
       "<!-- 2&#45;&gt;6 -->\n",
       "<g id=\"edge8\" class=\"edge\">\n",
       "<title>2&#45;&gt;6</title>\n",
       "<path fill=\"none\" stroke=\"black\" d=\"M185.87,-139.37C192.84,-141.91 201.1,-144.85 208.6,-147.36 242.9,-158.88 282.6,-171.16 309.23,-179.25\"/>\n",
       "<polygon fill=\"black\" stroke=\"black\" points=\"308.51,-182.69 319.09,-182.23 310.54,-175.99 308.51,-182.69\"/>\n",
       "<text text-anchor=\"middle\" x=\"246.6\" y=\"-175.16\" font-family=\"Times,serif\" font-size=\"14.00\">[0,0]</text>\n",
       "</g>\n",
       "<!-- 7 -->\n",
       "<g id=\"node8\" class=\"node\">\n",
       "<title>7</title>\n",
       "<ellipse fill=\"none\" stroke=\"black\" cx=\"700.6\" cy=\"-133.36\" rx=\"18\" ry=\"18\"/>\n",
       "<ellipse fill=\"none\" stroke=\"black\" cx=\"700.6\" cy=\"-133.36\" rx=\"22\" ry=\"22\"/>\n",
       "<text text-anchor=\"middle\" x=\"700.6\" y=\"-130.26\" font-family=\"Times,serif\" font-size=\"12.00\">7</text>\n",
       "</g>\n",
       "<!-- 2&#45;&gt;7 -->\n",
       "<g id=\"edge9\" class=\"edge\">\n",
       "<title>2&#45;&gt;7</title>\n",
       "<path fill=\"none\" stroke=\"black\" d=\"M186.66,-130.16C241.75,-120.25 419.85,-91.62 566.6,-106.36 602.2,-109.94 642.36,-118.77 669.14,-125.37\"/>\n",
       "<polygon fill=\"black\" stroke=\"black\" points=\"668.51,-128.82 679.06,-127.86 670.22,-122.03 668.51,-128.82\"/>\n",
       "<text text-anchor=\"middle\" x=\"434.6\" y=\"-109.16\" font-family=\"Times,serif\" font-size=\"14.00\">[1,0], [1,1]</text>\n",
       "</g>\n",
       "<!-- 8 -->\n",
       "<g id=\"node9\" class=\"node\">\n",
       "<title>8</title>\n",
       "<ellipse fill=\"none\" stroke=\"black\" cx=\"528.6\" cy=\"-133.36\" rx=\"18\" ry=\"18\"/>\n",
       "<text text-anchor=\"middle\" x=\"528.6\" y=\"-130.26\" font-family=\"Times,serif\" font-size=\"12.00\">8</text>\n",
       "</g>\n",
       "<!-- 2&#45;&gt;8 -->\n",
       "<g id=\"edge10\" class=\"edge\">\n",
       "<title>2&#45;&gt;8</title>\n",
       "<path fill=\"none\" stroke=\"black\" d=\"M186.87,-133.36C244.41,-133.36 429.94,-133.36 500.25,-133.36\"/>\n",
       "<polygon fill=\"black\" stroke=\"black\" points=\"500.51,-136.86 510.51,-133.36 500.51,-129.86 500.51,-136.86\"/>\n",
       "<text text-anchor=\"middle\" x=\"340.6\" y=\"-137.16\" font-family=\"Times,serif\" font-size=\"14.00\">[0,1]</text>\n",
       "</g>\n",
       "<!-- 3&#45;&gt;7 -->\n",
       "<g id=\"edge11\" class=\"edge\">\n",
       "<title>3&#45;&gt;7</title>\n",
       "<path fill=\"none\" stroke=\"black\" d=\"M268.11,-45.13C332.04,-30.05 531.15,7.45 660.6,-73.36 672.04,-80.51 680.8,-92.39 687.08,-103.7\"/>\n",
       "<polygon fill=\"black\" stroke=\"black\" points=\"684.13,-105.63 691.79,-112.95 690.37,-102.45 684.13,-105.63\"/>\n",
       "<text text-anchor=\"middle\" x=\"434.6\" y=\"-29.16\" font-family=\"Times,serif\" font-size=\"14.00\">[0,0], [1,0]</text>\n",
       "</g>\n",
       "<!-- 4&#45;&gt;4 -->\n",
       "<g id=\"edge12\" class=\"edge\">\n",
       "<title>4&#45;&gt;4</title>\n",
       "<path fill=\"none\" stroke=\"black\" d=\"M326.59,-258.16C318.86,-269.7 323.53,-282.36 340.6,-282.36 353.01,-282.36 358.86,-275.68 358.17,-267.6\"/>\n",
       "<polygon fill=\"black\" stroke=\"black\" points=\"361.41,-266.28 354.61,-258.16 354.87,-268.76 361.41,-266.28\"/>\n",
       "<text text-anchor=\"middle\" x=\"340.6\" y=\"-286.16\" font-family=\"Times,serif\" font-size=\"14.00\">[0,0], [1,0]</text>\n",
       "</g>\n",
       "<!-- 4&#45;&gt;5 -->\n",
       "<g id=\"edge13\" class=\"edge\">\n",
       "<title>4&#45;&gt;5</title>\n",
       "<path fill=\"none\" stroke=\"black\" d=\"M358.77,-248.67C391.15,-253.02 461.51,-262.48 500.4,-267.71\"/>\n",
       "<polygon fill=\"black\" stroke=\"black\" points=\"500.1,-271.2 510.48,-269.06 501.03,-264.26 500.1,-271.2\"/>\n",
       "<text text-anchor=\"middle\" x=\"434.6\" y=\"-267.16\" font-family=\"Times,serif\" font-size=\"14.00\">[0,1], [1,1]</text>\n",
       "</g>\n",
       "<!-- 5&#45;&gt;7 -->\n",
       "<g id=\"edge14\" class=\"edge\">\n",
       "<title>5&#45;&gt;7</title>\n",
       "<path fill=\"none\" stroke=\"black\" d=\"M546.78,-271.2C574.26,-270.02 628.28,-263.81 660.6,-234.36 680.27,-216.44 690.12,-187.45 694.98,-165.12\"/>\n",
       "<polygon fill=\"black\" stroke=\"black\" points=\"698.46,-165.56 696.94,-155.08 691.59,-164.22 698.46,-165.56\"/>\n",
       "<text text-anchor=\"middle\" x=\"622.6\" y=\"-271.16\" font-family=\"Times,serif\" font-size=\"14.00\">[0,0], [1,0]</text>\n",
       "</g>\n",
       "<!-- 6&#45;&gt;7 -->\n",
       "<g id=\"edge15\" class=\"edge\">\n",
       "<title>6&#45;&gt;7</title>\n",
       "<path fill=\"none\" stroke=\"black\" d=\"M362.36,-191.92C402.38,-198.1 492.78,-208.76 566.6,-193.36 605.47,-185.26 646.6,-164.58 672.66,-149.77\"/>\n",
       "<polygon fill=\"black\" stroke=\"black\" points=\"674.65,-152.66 681.54,-144.61 671.13,-146.61 674.65,-152.66\"/>\n",
       "<text text-anchor=\"middle\" x=\"528.6\" y=\"-205.16\" font-family=\"Times,serif\" font-size=\"14.00\">[1,0], [1,1]</text>\n",
       "</g>\n",
       "<!-- 6&#45;&gt;8 -->\n",
       "<g id=\"edge16\" class=\"edge\">\n",
       "<title>6&#45;&gt;8</title>\n",
       "<path fill=\"none\" stroke=\"black\" d=\"M361.86,-182.37C395.77,-172.35 463.98,-152.18 501.46,-141.1\"/>\n",
       "<polygon fill=\"black\" stroke=\"black\" points=\"502.56,-144.42 511.16,-138.23 500.58,-137.71 502.56,-144.42\"/>\n",
       "<text text-anchor=\"middle\" x=\"434.6\" y=\"-175.16\" font-family=\"Times,serif\" font-size=\"14.00\">[0,0], [0,1]</text>\n",
       "</g>\n",
       "<!-- 8&#45;&gt;7 -->\n",
       "<g id=\"edge17\" class=\"edge\">\n",
       "<title>8&#45;&gt;7</title>\n",
       "<path fill=\"none\" stroke=\"black\" d=\"M546.84,-133.36C575.22,-133.36 632.2,-133.36 667.98,-133.36\"/>\n",
       "<polygon fill=\"black\" stroke=\"black\" points=\"668.35,-136.86 678.35,-133.36 668.35,-129.86 668.35,-136.86\"/>\n",
       "<text text-anchor=\"middle\" x=\"622.6\" y=\"-137.16\" font-family=\"Times,serif\" font-size=\"14.00\">[1,0], [1,1]</text>\n",
       "</g>\n",
       "<!-- 8&#45;&gt;8 -->\n",
       "<g id=\"edge18\" class=\"edge\">\n",
       "<title>8&#45;&gt;8</title>\n",
       "<path fill=\"none\" stroke=\"black\" d=\"M514.59,-145.16C506.86,-156.7 511.53,-169.36 528.6,-169.36 541.01,-169.36 546.86,-162.68 546.17,-154.6\"/>\n",
       "<polygon fill=\"black\" stroke=\"black\" points=\"549.41,-153.28 542.61,-145.16 542.87,-155.76 549.41,-153.28\"/>\n",
       "<text text-anchor=\"middle\" x=\"528.6\" y=\"-173.16\" font-family=\"Times,serif\" font-size=\"14.00\">[0,0], [0,1]</text>\n",
       "</g>\n",
       "<!-- qi -->\n",
       "<g id=\"node10\" class=\"node\">\n",
       "<title>qi</title>\n",
       "<ellipse fill=\"black\" stroke=\"black\" cx=\"1.8\" cy=\"-133.36\" rx=\"1.8\" ry=\"1.8\"/>\n",
       "</g>\n",
       "<!-- qi&#45;&gt;0 -->\n",
       "<g id=\"edge1\" class=\"edge\">\n",
       "<title>qi&#45;&gt;0</title>\n",
       "<path fill=\"none\" stroke=\"black\" d=\"M3.75,-133.36C7.11,-133.36 18.87,-133.36 30.55,-133.36\"/>\n",
       "<polygon fill=\"black\" stroke=\"black\" points=\"30.58,-136.86 40.58,-133.36 30.58,-129.86 30.58,-136.86\"/>\n",
       "</g>\n",
       "<!-- \\n -->\n",
       "<g id=\"node11\" class=\"node\">\n",
       "<title>\\n</title>\n",
       "<ellipse fill=\"black\" stroke=\"black\" cx=\"1.8\" cy=\"-155.36\" rx=\"1.8\" ry=\"1.8\"/>\n",
       "</g>\n",
       "</g>\n",
       "</svg>\n"
      ],
      "text/plain": [
       "<IPython.core.display.HTML object>"
      ]
     },
     "metadata": {},
     "output_type": "display_data"
    }
   ],
   "source": [
    "%showme testOU"
   ]
  },
  {
   "cell_type": "markdown",
   "id": "3501a35a",
   "metadata": {
    "slideshow": {
     "slide_type": "slide"
    }
   },
   "source": [
    "## Plan de route"
   ]
  },
  {
   "cell_type": "markdown",
   "id": "c000551c",
   "metadata": {
    "slideshow": {
     "slide_type": "-"
    }
   },
   "source": [
    "* <span class=\"\">Les opérations sur les prédicats,</span>\n",
    "    * <span class=\"gray\">Les opérateurs de logique d'arité 2</span>\n",
    "    * <b class=\"cool\">la négation</b>\n",
    "    * <span class=\"\">La quantification</span>\n",
    "* <span class=\"\">Les opérations sur les termes arithmétiques,</span>\n",
    "* <span class=\"\">L'appel à des prédicats préfinis,</span>\n",
    "* <span class=\"\">Les opérations sur les termes d'indexation de mots automatiques.</span>"
   ]
  },
  {
   "cell_type": "markdown",
   "id": "2d70553c",
   "metadata": {
    "slideshow": {
     "slide_type": "slide"
    }
   },
   "source": [
    "## Négation logique : complémentaire et produit synchronisé\n",
    "\n",
    "La négation d'un prédicat est obtenue en prenant le <b class=\"cool\">complémentaire</b> de son DFA tout en s'assurant que ne sont acceptées que les entrées <b class=\"cool\">valides</b> dans le système de numération considéré.\n",
    "\n",
    "Soit $M = (Q, \\S{1},\\cdots,\\S{m}, q_0, F, \\delta)$ un automate représentant le prédicat $P(x_1, \\cdots, x_m)$.\n",
    "Comme énoncé précédement, Walnut élague ses automates de leur état puit, $\\delta$ est donc en réalité une fonction partielle.\n",
    "Construisons l'automate $M'= (Q', \\S{1},\\cdots,\\S{m}, q_0, F', \\delta')$ reconnaissant le complémentaire de $P(x_1, \\cdots, x_m)$.\n",
    "\n",
    "\n",
    "* $Q' = Q \\cup \\lbrace \\bot \\rbrace$,\n",
    "* $F' = Q' \\setminus F$\n",
    "* $\\delta'(q, a_1, \\cdots, a_m) = \\delta(q, a_1, \\cdots, a_m)$ si cette transition est définie et $\\bot$ sinon,\n",
    "avec $a_i \\in \\S{i}$ et $q \\in Q'$.\n"
   ]
  },
  {
   "cell_type": "markdown",
   "id": "70dd4b73",
   "metadata": {
    "slideshow": {
     "slide_type": "slide"
    }
   },
   "source": [
    "#### Exemple pour $(a):~ ?\\text{msd_fib} \\sim a=1$"
   ]
  },
  {
   "cell_type": "markdown",
   "id": "825b8e65",
   "metadata": {
    "slideshow": {
     "slide_type": "-"
    }
   },
   "source": [
    "<img style=\"height:100%\" src=\"img/complement/a=1.svg\">"
   ]
  },
  {
   "cell_type": "markdown",
   "id": "e766c1ed",
   "metadata": {
    "slideshow": {
     "slide_type": "fragment"
    }
   },
   "source": [
    "On complète l'automate :"
   ]
  },
  {
   "cell_type": "markdown",
   "id": "de3cb8b5",
   "metadata": {
    "slideshow": {
     "slide_type": "-"
    }
   },
   "source": [
    "<img style=\"height:100%\" src=\"img/complement/a=1TOT.svg\">"
   ]
  },
  {
   "cell_type": "markdown",
   "id": "d7dbb5e8",
   "metadata": {
    "slideshow": {
     "slide_type": "fragment"
    }
   },
   "source": [
    "L'automate $M'$ complémentaire de $M$ :"
   ]
  },
  {
   "cell_type": "markdown",
   "id": "3471c17a",
   "metadata": {
    "slideshow": {
     "slide_type": "-"
    }
   },
   "source": [
    "<img style=\"height:100%\" src=\"img/complement/a=1SWITCH.svg\">\n"
   ]
  },
  {
   "cell_type": "markdown",
   "id": "7656b282",
   "metadata": {
    "slideshow": {
     "slide_type": "-"
    }
   },
   "source": [
    "Ce DFA accepte $11$, cela pose problème en base de fibonacci."
   ]
  },
  {
   "cell_type": "markdown",
   "id": "494d27b5",
   "metadata": {
    "slideshow": {
     "slide_type": "slide"
    }
   },
   "source": [
    "Il faut donc intersecter $M'$ avec l'automate reconnaissant les nombres représentés dans la base de fibonacci."
   ]
  },
  {
   "cell_type": "markdown",
   "id": "9b24eec6",
   "metadata": {
    "slideshow": {
     "slide_type": "-"
    }
   },
   "source": [
    "<img style=\"height:100%\" src=\"img/complement/a=1SWITCH.svg\">\n",
    "<img style=\"height:100%; position:absolute; float:left; left:0px; bottom:0px;\" src=\"img/complement/a=1SWITCH.svg\">\n",
    "<img style=\"height:100%; position:absolute; float:right; right:0px; bottom:0px\" src=\"img/complement/Rfib.svg\">"
   ]
  },
  {
   "cell_type": "markdown",
   "id": "30ca6757",
   "metadata": {
    "slideshow": {
     "slide_type": "fragment"
    }
   },
   "source": [
    "La conjonction de ces deux automates donne le DFA pour le prédicat énoncé :\n",
    "il reconnaît tous les nombres en base de fibonacci sauf le $1$."
   ]
  },
  {
   "cell_type": "markdown",
   "id": "c82842af",
   "metadata": {
    "slideshow": {
     "slide_type": "-"
    }
   },
   "source": [
    "<img style=\"height:100%\" src=\"img/complement/a=1NEG.svg\">"
   ]
  },
  {
   "cell_type": "markdown",
   "id": "eb5acc59",
   "metadata": {
    "slideshow": {
     "slide_type": "slide"
    }
   },
   "source": [
    "## Automates vrai - faux : le cas particulier\n",
    "\n",
    "Les prédicats s'évaluant à <b class=\"cool\"> vrai </b> ou à <b class=\"cool\"> faux </b> sont représentés par des automates spéciaux à zéro variables."
   ]
  },
  {
   "cell_type": "code",
   "execution_count": 2,
   "id": "3cf1a258",
   "metadata": {
    "slideshow": {
     "slide_type": "-"
    }
   },
   "outputs": [
    {
     "name": "stdout",
     "output_type": "stream",
     "text": [
      "____\n",
      "TRUE\n",
      "\n",
      "computed ~:1 states - 23ms\n",
      "_____\n",
      "FALSE\n",
      "\n"
     ]
    }
   ],
   "source": [
    "eval true \"Ax x=x\";\n",
    "eval false \"Ex x<0\";"
   ]
  },
  {
   "cell_type": "code",
   "execution_count": 3,
   "id": "ff174bee",
   "metadata": {
    "slideshow": {
     "slide_type": "-"
    }
   },
   "outputs": [
    {
     "data": {
      "text/html": [
       "<?xml version=\"1.0\" encoding=\"UTF-8\" standalone=\"no\"?>\n",
       "<!DOCTYPE svg PUBLIC \"-//W3C//DTD SVG 1.1//EN\"\n",
       " \"http://www.w3.org/Graphics/SVG/1.1/DTD/svg11.dtd\">\n",
       "<!-- Generated by graphviz version 2.43.0 (0)\n",
       " -->\n",
       "<!-- Title: G Pages: 1 -->\n",
       "<svg width=\"95pt\" height=\"108pt\"\n",
       " viewBox=\"0.00 0.00 95.00 108.00\" xmlns=\"http://www.w3.org/2000/svg\" xmlns:xlink=\"http://www.w3.org/1999/xlink\">\n",
       "<g id=\"graph0\" class=\"graph\" transform=\"scale(1 1) rotate(0) translate(4 104)\">\n",
       "<title>G</title>\n",
       "<polygon fill=\"white\" stroke=\"transparent\" points=\"-4,4 -4,-104 91,-104 91,4 -4,4\"/>\n",
       "<text text-anchor=\"middle\" x=\"43.5\" y=\"-7.8\" font-family=\"Times,serif\" font-size=\"14.00\">(): Ax x=x</text>\n",
       "<!-- 0 -->\n",
       "<g id=\"node1\" class=\"node\">\n",
       "<title>0</title>\n",
       "<ellipse fill=\"none\" stroke=\"black\" cx=\"63.8\" cy=\"-45\" rx=\"18\" ry=\"18\"/>\n",
       "<ellipse fill=\"none\" stroke=\"black\" cx=\"63.8\" cy=\"-45\" rx=\"22\" ry=\"22\"/>\n",
       "<text text-anchor=\"middle\" x=\"63.8\" y=\"-41.9\" font-family=\"Times,serif\" font-size=\"12.00\">0</text>\n",
       "</g>\n",
       "<!-- 0&#45;&gt;0 -->\n",
       "<g id=\"edge2\" class=\"edge\">\n",
       "<title>0&#45;&gt;0</title>\n",
       "<path fill=\"none\" stroke=\"black\" d=\"M56.48,-65.99C55.58,-76.09 58.02,-85 63.8,-85 67.5,-85 69.84,-81.34 70.8,-76.06\"/>\n",
       "<polygon fill=\"black\" stroke=\"black\" points=\"74.3,-76.1 71.12,-65.99 67.3,-75.87 74.3,-76.1\"/>\n",
       "<text text-anchor=\"middle\" x=\"63.8\" y=\"-88.8\" font-family=\"Times,serif\" font-size=\"14.00\">*</text>\n",
       "</g>\n",
       "<!-- qi -->\n",
       "<g id=\"node2\" class=\"node\">\n",
       "<title>qi</title>\n",
       "<ellipse fill=\"black\" stroke=\"black\" cx=\"3\" cy=\"-45\" rx=\"1.8\" ry=\"1.8\"/>\n",
       "</g>\n",
       "<!-- qi&#45;&gt;0 -->\n",
       "<g id=\"edge1\" class=\"edge\">\n",
       "<title>qi&#45;&gt;0</title>\n",
       "<path fill=\"none\" stroke=\"black\" d=\"M5.02,-45C8.39,-45 19.64,-45 31.32,-45\"/>\n",
       "<polygon fill=\"black\" stroke=\"black\" points=\"31.51,-48.5 41.51,-45 31.51,-41.5 31.51,-48.5\"/>\n",
       "</g>\n",
       "<!-- \\n -->\n",
       "<g id=\"node3\" class=\"node\">\n",
       "<title>\\n</title>\n",
       "<ellipse fill=\"black\" stroke=\"black\" cx=\"3\" cy=\"-67\" rx=\"1.8\" ry=\"1.8\"/>\n",
       "</g>\n",
       "</g>\n",
       "</svg>\n"
      ],
      "text/plain": [
       "<IPython.core.display.HTML object>"
      ]
     },
     "metadata": {},
     "output_type": "display_data"
    },
    {
     "data": {
      "text/html": [
       "<?xml version=\"1.0\" encoding=\"UTF-8\" standalone=\"no\"?>\n",
       "<!DOCTYPE svg PUBLIC \"-//W3C//DTD SVG 1.1//EN\"\n",
       " \"http://www.w3.org/Graphics/SVG/1.1/DTD/svg11.dtd\">\n",
       "<!-- Generated by graphviz version 2.43.0 (0)\n",
       " -->\n",
       "<!-- Title: G Pages: 1 -->\n",
       "<svg width=\"97pt\" height=\"73pt\"\n",
       " viewBox=\"0.00 0.00 97.00 72.80\" xmlns=\"http://www.w3.org/2000/svg\" xmlns:xlink=\"http://www.w3.org/1999/xlink\">\n",
       "<g id=\"graph0\" class=\"graph\" transform=\"scale(1 1) rotate(0) translate(4 68.8)\">\n",
       "<title>G</title>\n",
       "<polygon fill=\"white\" stroke=\"transparent\" points=\"-4,4 -4,-68.8 93,-68.8 93,4 -4,4\"/>\n",
       "<text text-anchor=\"middle\" x=\"44.5\" y=\"-7.8\" font-family=\"Times,serif\" font-size=\"14.00\">(): Ex x&lt;0</text>\n",
       "<!-- 0 -->\n",
       "<g id=\"node1\" class=\"node\">\n",
       "<title>0</title>\n",
       "<ellipse fill=\"none\" stroke=\"black\" cx=\"64.3\" cy=\"-41\" rx=\"18\" ry=\"18\"/>\n",
       "<text text-anchor=\"middle\" x=\"64.3\" y=\"-37.9\" font-family=\"Times,serif\" font-size=\"12.00\">0</text>\n",
       "</g>\n",
       "<!-- qi -->\n",
       "<g id=\"node2\" class=\"node\">\n",
       "<title>qi</title>\n",
       "<ellipse fill=\"black\" stroke=\"black\" cx=\"8.5\" cy=\"-41\" rx=\"1.8\" ry=\"1.8\"/>\n",
       "</g>\n",
       "<!-- qi&#45;&gt;0 -->\n",
       "<g id=\"edge1\" class=\"edge\">\n",
       "<title>qi&#45;&gt;0</title>\n",
       "<path fill=\"none\" stroke=\"black\" d=\"M10.43,-41C13.66,-41 24.75,-41 35.95,-41\"/>\n",
       "<polygon fill=\"black\" stroke=\"black\" points=\"36.04,-44.5 46.04,-41 36.04,-37.5 36.04,-44.5\"/>\n",
       "</g>\n",
       "<!-- \\n -->\n",
       "<g id=\"node3\" class=\"node\">\n",
       "<title>\\n</title>\n",
       "<ellipse fill=\"black\" stroke=\"black\" cx=\"8.5\" cy=\"-63\" rx=\"1.8\" ry=\"1.8\"/>\n",
       "</g>\n",
       "</g>\n",
       "</svg>\n"
      ],
      "text/plain": [
       "<IPython.core.display.HTML object>"
      ]
     },
     "metadata": {},
     "output_type": "display_data"
    }
   ],
   "source": [
    "%showme true\n",
    "%showme false"
   ]
  },
  {
   "cell_type": "markdown",
   "id": "819e50bb",
   "metadata": {
    "slideshow": {
     "slide_type": "slide"
    }
   },
   "source": [
    "Dans la théorie ces automates ne sont pas des cas particuliers, mais Walnut les traite comme tels : toutes les opérations logiques impliquant un automate vrai/faux sont traitées de manière immédiate."
   ]
  },
  {
   "cell_type": "code",
   "execution_count": 50,
   "id": "b07d06d4",
   "metadata": {
    "slideshow": {
     "slide_type": "-"
    }
   },
   "outputs": [
    {
     "name": "stdout",
     "output_type": "stream",
     "text": [
      "computing x=x\r\n",
      "computed x=x\r\n",
      "x=x:1 states - 0ms\r\n",
      " computing quantifier A\r\n",
      "  computing ~:1 states\r\n",
      "   totalizing:1 states\r\n",
      "   totalized:1 states - 0ms\r\n",
      "-----    Minimizing: 1 states.\r\n",
      "    determinizing:1 states\r\n",
      "    determinized:1 states - 0ms\r\n",
      "-----    Minimized:1 states - 0ms.\r\n",
      "   Minimized:1 states - 0ms.\r\n",
      "  computed ~:1 states - 1ms\r\n",
      "  quantifying:1 states\r\n",
      " computed quantifier (A x x=x)\r\n",
      " (A x x=x):1 states - 1ms\r\n",
      "  computing y=2\r\n",
      "  computed y=2\r\n",
      "  y=2:3 states - 0ms\r\n",
      "   computing (A x x=x)=>y=2\r\n",
      "   computed (A x x=x)=>y=2\r\n",
      "   ((A x x=x)=>y=2):3 states - 0ms\r\n",
      "Total computation time: 2ms.\r\n",
      "\r\n"
     ]
    }
   ],
   "source": [
    "eval test \"(Ax x=x) => y=2\"::"
   ]
  },
  {
   "cell_type": "markdown",
   "id": "a8b785bf",
   "metadata": {
    "slideshow": {
     "slide_type": "slide"
    }
   },
   "source": [
    "## Plan de route"
   ]
  },
  {
   "cell_type": "markdown",
   "id": "5619eb00",
   "metadata": {
    "slideshow": {
     "slide_type": "-"
    }
   },
   "source": [
    "* <span class=\"\">Les opérations sur les prédicats,</span>\n",
    "    * <span class=\"gray\">Les opérateurs de logique d'arité 2</span>\n",
    "    * <span class=\"gray\">la négation</span>\n",
    "    * <b class=\"cool\">La quantification</b>\n",
    "* <span class=\"\">Les opérations sur les termes arithmétiques,</span>\n",
    "* <span class=\"\">L'appel à des prédicats préfinis,</span>\n",
    "* <span class=\"\">Les opérations sur les termes d'indexation de mots automatiques.</span>"
   ]
  },
  {
   "cell_type": "markdown",
   "id": "4739ba66",
   "metadata": {
    "slideshow": {
     "slide_type": "slide"
    }
   },
   "source": [
    "## Quantification : non-déterminisme et 0 piégeux\n",
    "\n",
    "Soit $M= (Q, \\S{1},\\cdots,\\S{m}, q_0, F, \\delta)$ le DFA représentant le prédicat $P(x_1, \\cdots, x_m)$.\n",
    "Pour un $1 \\leq i \\leq m$, ajouter un <b class=\"cool\">quantificateur existentiel</b> sur la variable libre $x_i$ revient à <b class=\"cool\">projeter</b> dans $(\\S{1}, \\cdots, \\S{m})$.\n",
    "L'automate $M'= (Q, \\S{1},\\cdots,\\S{m}, q_0, F, \\delta')$ ainsi obtenu est fini potentiellement non déterministe avec \n",
    "\n",
    "* $\\delta'(q, a_1, \\cdots, a_{i-1}, a_{i+1}, \\cdots, a_m) = \n",
    "\\lbrace \\delta(q, a_1, \\cdots, a_{i-1}, a_i, a_{i+1}, \\cdots, a_m) ~|~ a_i \\in \\S{i}\\rbrace$."
   ]
  },
  {
   "cell_type": "markdown",
   "id": "4b5d3517",
   "metadata": {
    "slideshow": {
     "slide_type": "fragment"
    }
   },
   "source": [
    "#### Exemple avec $(a): \\text{E}b ~ a=1 \\& b=2$"
   ]
  },
  {
   "cell_type": "markdown",
   "id": "835b1b0e",
   "metadata": {
    "slideshow": {
     "slide_type": "-"
    }
   },
   "source": [
    "<img style=\"height:100%\" src=\"img/quantification/a=1andb=2.svg\">"
   ]
  },
  {
   "cell_type": "markdown",
   "id": "a110255a",
   "metadata": {
    "slideshow": {
     "slide_type": "-"
    }
   },
   "source": [
    "Projection :"
   ]
  },
  {
   "cell_type": "markdown",
   "id": "55548a25",
   "metadata": {
    "slideshow": {
     "slide_type": "-"
    }
   },
   "source": [
    "<img style=\"height:100%\" src=\"img/quantification/E(M,2).svg\">"
   ]
  },
  {
   "cell_type": "markdown",
   "id": "5e13fd24",
   "metadata": {
    "slideshow": {
     "slide_type": "slide"
    }
   },
   "source": [
    "Ce NFA ne correspond pas à $(a): \\text{E}b ~ a=1 \\& b=2$.\n",
    "Certaines représentations passent au travers des mailles du filet, en effet $01$ est accepté alors que $1$ non alors qu'ils sont tous deux des représentations valides d'un même nombre en msd_2."
   ]
  },
  {
   "cell_type": "markdown",
   "id": "2c7a308b",
   "metadata": {
    "slideshow": {
     "slide_type": "-"
    }
   },
   "source": [
    "Il est nécessaire de gérer ces <b class=\"cool\">$0$ non significatifs</b>. En msd ils sont prefixes de la représentation et en lsd ils sont suffixes, deux techniques différentes s'imposent :\n",
    "\n",
    "* msd : transformer en état entrant tous les états accessibles en lisant $(0,\\cdots,0)^*$,\n",
    "* lsd : transformer en état acceptant tous les états pouvant accéder à un état acceptant en lisant $(0,\\cdots,0)^*$."
   ]
  },
  {
   "cell_type": "markdown",
   "id": "098130fb",
   "metadata": {
    "slideshow": {
     "slide_type": "slide"
    }
   },
   "source": [
    "Poursuivant notre exemple, cela donne :"
   ]
  },
  {
   "cell_type": "markdown",
   "id": "05f3baf3",
   "metadata": {
    "slideshow": {
     "slide_type": "-"
    }
   },
   "source": [
    "<img style=\"height:100%\" src=\"img/quantification/Eba=1andb=2.svg\">"
   ]
  },
  {
   "cell_type": "markdown",
   "id": "a7f74ec7",
   "metadata": {
    "slideshow": {
     "slide_type": "-"
    }
   },
   "source": [
    "Une fois déterminisé, on obtient bien $(a): \\text{E}b ~ a=1 \\& b=2$"
   ]
  },
  {
   "cell_type": "markdown",
   "id": "25679f26",
   "metadata": {
    "slideshow": {
     "slide_type": "-"
    }
   },
   "source": [
    "<img style=\"height:100%\" src=\"img/quantification/Eba=1andb=2DET.svg\">"
   ]
  },
  {
   "cell_type": "markdown",
   "id": "363b0f79",
   "metadata": {
    "slideshow": {
     "slide_type": "fragment"
    }
   },
   "source": [
    "Ainsi l'automate M' représentant le le prédicat $(\\text{E}x_i P)(x_1, \\cdots,x_{i-1},x_{i+1}, \\cdots, x_m)$ est la minimisation de l'automate $A= (Q, \\S{1},\\cdots,\\S{m}, I, F', \\delta')$ avec\n",
    "\n",
    "* $\\delta'(q, a_1, \\cdots, a_{i-1}, a_{i+1}, \\cdots, a_m) = \n",
    "\\lbrace \\delta(q, a_1, \\cdots, a_{i-1}, a_i, a_{i+1}, \\cdots, a_m) ~|~ a_i \\in \\S{i}\\rbrace$,\n",
    "* $I = \\lbrace \\delta'^*(q_0,0^k,\\cdots,0^k) \\neq \\bot ~|~ k \\geq 0 \\rbrace$ en msd et $\\lbrace q_0 \\rbrace$ en lsd,\n",
    "* $F = F$ en msd et $\\lbrace q ~|~ \\exists k,~ \\delta^{\\prime *}(q,0^k,\\cdots,0^k) \\in F \\rbrace$ en lsd.\n"
   ]
  },
  {
   "cell_type": "markdown",
   "id": "1aa95b79",
   "metadata": {
    "slideshow": {
     "slide_type": "-"
    }
   },
   "source": [
    "Remarque : Si plusieurs variables libres sont capturées par un même quantificateur universel Walnut projette sur toutes en même temps, nécessitant ainsi qu'une seule minimisation. \n",
    "(écrire $\"\\text{E}x,y,z~ \\$\\text{pred}(x,y,z)\"$ est plus efficace que $\"\\text{E}x~ \\text{E}y~ \\text{E}z~ \\$\\text{pred}(x,y,z)\"$ )"
   ]
  },
  {
   "cell_type": "markdown",
   "id": "698d33a3",
   "metadata": {
    "slideshow": {
     "slide_type": "slide"
    }
   },
   "source": [
    "Pour le <b class=\"cool\">quantificateur universel</b>, à partir de l'automate du prédicat $P(x_1, \\cdots, x_m)$,\n",
    "le prédicat $(\\text{A}x_i~ P)(x_1, \\cdots,x_{i-1},x_{i+1}, \\cdots, x_m)$ est construit par négation, quantification existentielle et négation.\n",
    "\n",
    "En effet, $(\\text{A}x_i~ P)(x_1, \\cdots,x_{i-1},x_{i+1}, \\cdots, x_m)$ est équivalent à \n",
    "$(\\sim (\\text{E}x_i~ \\sim P))(x_1, \\cdots,x_{i-1},x_{i+1}, \\cdots, x_m)$.\n",
    "\n",
    "C'est bien ce que Walnut fait :"
   ]
  },
  {
   "cell_type": "code",
   "execution_count": 10,
   "id": "c784bbc8",
   "metadata": {
    "slideshow": {
     "slide_type": "-"
    }
   },
   "outputs": [
    {
     "name": "stdout",
     "output_type": "stream",
     "text": [
      "computing a=1\r\n",
      "computed a=1\r\n",
      "a=1:2 states - 1ms\r\n",
      " computing b=2\r\n",
      " computed b=2\r\n",
      " b=2:3 states - 0ms\r\n",
      "  computing a=1&b=2\r\n",
      "   computing &:2 states - 3 states\r\n",
      "   computing cross product:2 states - 3 states\r\n",
      "   computed cross product:6 states - 0ms\r\n",
      "-----     Minimizing: 6 states.\r\n",
      "     determinizing:6 states\r\n",
      "     determinized:6 states - 0ms\r\n",
      "-----     Minimized:3 states - 0ms.\r\n",
      "    Minimized:3 states - 0ms.\r\n",
      "   computed &:3 states - 0ms\r\n",
      "  computed a=1&b=2\r\n",
      "  (a=1&b=2):3 states - 0ms\r\n",
      "   computing quantifier A\r\n",
      "    computing ~:3 states\r\n",
      "     totalizing:3 states\r\n",
      "     totalized:4 states - 0ms\r\n",
      "-----      Minimizing: 4 states.\r\n",
      "      determinizing:4 states\r\n",
      "      determinized:4 states - 0ms\r\n",
      "-----      Minimized:4 states - 1ms.\r\n",
      "     Minimized:4 states - 1ms.\r\n",
      "    computed ~:4 states - 1ms\r\n",
      "    quantifying:4 states\r\n",
      "-----      Minimizing: 4 states.\r\n",
      "      determinizing:4 states\r\n",
      "      determinized:5 states - 0ms\r\n",
      "-----      Minimized:1 states - 0ms.\r\n",
      "     Minimized:1 states - 0ms.\r\n",
      "    quantified:1 states - 0ms\r\n",
      "    fixing leading zeros:1 states\r\n",
      "     determinizing:1 states\r\n",
      "     determinized:1 states - 0ms\r\n",
      "-----      Minimizing: 1 states.\r\n",
      "      determinizing:1 states\r\n",
      "      determinized:1 states - 1ms\r\n",
      "-----      Minimized:1 states - 1ms.\r\n",
      "     Minimized:1 states - 1ms.\r\n",
      "    fixed leading zeros:1 states - 1ms\r\n",
      "    computing ~:1 states\r\n",
      "     totalizing:1 states\r\n",
      "     totalized:1 states - 0ms\r\n",
      "-----      Minimizing: 1 states.\r\n",
      "      determinizing:1 states\r\n",
      "      determinized:1 states - 0ms\r\n",
      "-----      Minimized:1 states - 0ms.\r\n",
      "     Minimized:1 states - 0ms.\r\n",
      "    computed ~:1 states - 0ms\r\n",
      "   computed quantifier (A b (a=1&b=2))\r\n",
      "   (A b (a=1&b=2)):1 states - 2ms\r\n",
      "Total computation time: 3ms.\r\n",
      "\r\n"
     ]
    }
   ],
   "source": [
    "eval univ \"Ab (a=1 & b=2)\"::"
   ]
  },
  {
   "cell_type": "markdown",
   "id": "2da48b95",
   "metadata": {
    "slideshow": {
     "slide_type": "slide"
    }
   },
   "source": [
    "## Plan de route"
   ]
  },
  {
   "cell_type": "markdown",
   "id": "fb67d630",
   "metadata": {
    "slideshow": {
     "slide_type": "-"
    }
   },
   "source": [
    "* <span class=\"gray\">Les opérations sur les prédicats,</span>\n",
    "    * <span class=\"gray\">Les opérateurs de logique d'arité 2</span>\n",
    "    * <span class=\"gray\">la négation</span>\n",
    "    * <span class=\"gray\">La quantification</span>\n",
    "* <b class=\"cool\">Les opérations sur les termes arithmétiques,</b>\n",
    "* <span class=\"\">L'appel à des prédicats préfinis,</span>\n",
    "* <span class=\"\">Les opérations sur les termes d'indexation de mots automatiques.</span>"
   ]
  },
  {
   "cell_type": "markdown",
   "id": "729ccb4a",
   "metadata": {
    "slideshow": {
     "slide_type": "slide"
    }
   },
   "source": [
    "## Opérateurs de comparaison : le ruissellement\n",
    "\n",
    "Maintenant que les opérateurs logiques sont définis il est aisé de traiter les comparaisons :\n",
    "\n",
    "* $(a,b):~ ?S~ a<=b$ est équivalent à $(a,b):~ ?S~ a<b ~|~ a=b$,\n",
    "* $(a,b):~ ?S~ a>b$ est équivalent à $(a,b):~ ?S~ \\sim(a<=b)$,\n",
    "* $(a,b):~ ?S~ a>=b$ est équivalent à $(a,b):~ ?S~ a>b ~|~ a=b$.\n",
    "\n",
    "Comme Walnut transforme toutes les sous formules en automates, il est aussi possible de traiter des comparaisons entre predicats plus compliqués au moyen de quantificateur :\n",
    "\n",
    "$(a,b):~ ?S~ 5 > a+b+4-1$ équivaut à $(a,b):~ ?S~ \\text{E}c~ \\$\\text{aux}(a,b,c) ~\\&~ 5>c$ avec $\\text{aux}$ étant $(a,b,c):~ ?S~ c = a+b+4-1$."
   ]
  },
  {
   "cell_type": "code",
   "execution_count": 53,
   "id": "5f54b78c",
   "metadata": {
    "slideshow": {
     "slide_type": "skip"
    }
   },
   "outputs": [
    {
     "name": "stdout",
     "output_type": "stream",
     "text": [
      "computing a+b\r\n",
      "computed a+b\r\n",
      "computing (a+b)+4\r\n",
      " computing &:4 states - 2 states\r\n",
      " computing cross product:4 states - 2 states\r\n",
      " computed cross product:8 states - 0ms\r\n",
      "-----   Minimizing: 8 states.\r\n",
      "   determinizing:8 states\r\n",
      "   determinized:8 states - 0ms\r\n",
      "-----   Minimized:7 states - 1ms.\r\n",
      "  Minimized:7 states - 1ms.\r\n",
      " computed &:7 states - 1ms\r\n",
      " quantifying:7 states\r\n",
      "-----   Minimizing: 7 states.\r\n",
      "   determinizing:7 states\r\n",
      "   determinized:5 states - 0ms\r\n",
      "-----   Minimized:5 states - 0ms.\r\n",
      "  Minimized:5 states - 0ms.\r\n",
      " quantified:5 states - 0ms\r\n",
      " fixing leading zeros:5 states\r\n",
      "  determinizing:5 states\r\n",
      "  determinized:5 states - 0ms\r\n",
      "-----   Minimizing: 5 states.\r\n",
      "   determinizing:5 states\r\n",
      "   determinized:5 states - 0ms\r\n",
      "-----   Minimized:5 states - 0ms.\r\n",
      "  Minimized:5 states - 0ms.\r\n",
      " fixed leading zeros:5 states - 0ms\r\n",
      "computed (a+b)+4\r\n",
      "computing ((a+b)+4)-1\r\n",
      " computing &:2 states - 5 states\r\n",
      " computing cross product:2 states - 5 states\r\n",
      " computed cross product:10 states - 0ms\r\n",
      "-----   Minimizing: 10 states.\r\n",
      "   determinizing:10 states\r\n",
      "   determinized:10 states - 0ms\r\n",
      "-----   Minimized:7 states - 1ms.\r\n",
      "  Minimized:7 states - 1ms.\r\n",
      " computed &:7 states - 1ms\r\n",
      " quantifying:7 states\r\n",
      "-----   Minimizing: 7 states.\r\n",
      "   determinizing:7 states\r\n",
      "   determinized:7 states - 0ms\r\n",
      "-----   Minimized:7 states - 0ms.\r\n",
      "  Minimized:7 states - 0ms.\r\n",
      " quantified:7 states - 0ms\r\n",
      " fixing leading zeros:7 states\r\n",
      "  determinizing:7 states\r\n",
      "  determinized:7 states - 0ms\r\n",
      "-----   Minimizing: 7 states.\r\n",
      "   determinizing:7 states\r\n",
      "   determinized:7 states - 0ms\r\n",
      "-----   Minimized:4 states - 0ms.\r\n",
      "  Minimized:4 states - 0ms.\r\n",
      " fixed leading zeros:4 states - 0ms\r\n",
      "computed ((a+b)+4)-1\r\n",
      "computing 5>(((a+b)+4)-1)\r\n",
      " computing &:4 states - 4 states\r\n",
      " computing cross product:4 states - 4 states\r\n",
      " computed cross product:10 states - 1ms\r\n",
      "-----   Minimizing: 10 states.\r\n",
      "   determinizing:10 states\r\n",
      "   determinized:10 states - 0ms\r\n",
      "-----   Minimized:4 states - 0ms.\r\n",
      "  Minimized:4 states - 0ms.\r\n",
      " computed &:4 states - 1ms\r\n",
      " quantifying:4 states\r\n",
      "-----   Minimizing: 4 states.\r\n",
      "   determinizing:4 states\r\n",
      "   determinized:4 states - 0ms\r\n",
      "-----   Minimized:4 states - 0ms.\r\n",
      "  Minimized:4 states - 0ms.\r\n",
      " quantified:4 states - 0ms\r\n",
      " fixing leading zeros:4 states\r\n",
      "  determinizing:4 states\r\n",
      "  determinized:2 states - 0ms\r\n",
      "-----   Minimizing: 2 states.\r\n",
      "   determinizing:2 states\r\n",
      "   determinized:2 states - 0ms\r\n",
      "-----   Minimized:2 states - 0ms.\r\n",
      "  Minimized:2 states - 0ms.\r\n",
      " fixed leading zeros:2 states - 0ms\r\n",
      "computed 5>(((a+b)+4)-1)\r\n",
      "5>(((a+b)+4)-1):2 states - 1ms\r\n",
      "Total computation time: 4ms.\r\n",
      "\r\n"
     ]
    }
   ],
   "source": [
    "eval comp \"5>a+b+4-1\"::"
   ]
  },
  {
   "cell_type": "code",
   "execution_count": 54,
   "id": "d2eabd32",
   "metadata": {
    "slideshow": {
     "slide_type": "skip"
    }
   },
   "outputs": [
    {
     "name": "stdout",
     "output_type": "stream",
     "text": [
      "c=(((a+b)+4)-1):4 states - 1ms\n",
      "Total computation time: 2ms.\n",
      "\n",
      "computing aux(...)\n",
      " fixing leading zeros:4 states\n",
      "  determinizing:4 states\n",
      "  determinized:4 states - 0ms\n",
      "-----   Minimizing: 4 states.\n",
      "   determinizing:4 states\n",
      "   determinized:4 states - 0ms\n",
      "-----   Minimized:4 states - 0ms.\n",
      "  Minimized:4 states - 0ms.\n",
      " fixed leading zeros:4 states - 0ms\n",
      "computed aux(a,b,c))\n",
      "computing 5>c\n",
      "computed 5>c\n",
      "5>c:4 states - 0ms\n",
      " computing aux(a,b,c))&5>c\n",
      "  computing &:4 states - 4 states\n",
      "  computing cross product:4 states - 4 states\n",
      "  computed cross product:10 states - 0ms\n",
      "-----    Minimizing: 10 states.\n",
      "    determinizing:10 states\n",
      "    determinized:10 states - 0ms\n",
      "-----    Minimized:4 states - 0ms.\n",
      "   Minimized:4 states - 0ms.\n",
      "  computed &:4 states - 0ms\n",
      " computed aux(a,b,c))&5>c\n",
      " (aux(a,b,c))&5>c):4 states - 1ms\n",
      "  computing quantifier E\n",
      "   quantifying:4 states\n",
      "-----     Minimizing: 4 states.\n",
      "     determinizing:4 states\n",
      "     determinized:4 states - 0ms\n",
      "-----     Minimized:4 states - 0ms.\n",
      "    Minimized:4 states - 0ms.\n",
      "   quantified:4 states - 0ms\n",
      "   fixing leading zeros:4 states\n",
      "    determinizing:4 states\n",
      "    determinized:2 states - 0ms\n",
      "-----     Minimizing: 2 states.\n",
      "     determinizing:2 states\n",
      "     determinized:2 states - 0ms\n",
      "-----     Minimized:2 states - 0ms.\n",
      "    Minimized:2 states - 0ms.\n",
      "   fixed leading zeros:2 states - 0ms\n",
      "  computed quantifier (E c (aux(a,b,c))&5>c))\n",
      "  (E c (aux(a,b,c))&5>c)):2 states - 0ms\n",
      "Total computation time: 1ms.\n",
      "\n"
     ]
    }
   ],
   "source": [
    "def aux \"c=a+b+4-1\":\n",
    "eval comptot \"Ec $aux(a,b,c) & 5>c\"::"
   ]
  },
  {
   "cell_type": "code",
   "execution_count": 43,
   "id": "d39b94cf",
   "metadata": {
    "slideshow": {
     "slide_type": "skip"
    }
   },
   "outputs": [
    {
     "data": {
      "text/html": [
       "<?xml version=\"1.0\" encoding=\"UTF-8\" standalone=\"no\"?>\n",
       "<!DOCTYPE svg PUBLIC \"-//W3C//DTD SVG 1.1//EN\"\n",
       " \"http://www.w3.org/Graphics/SVG/1.1/DTD/svg11.dtd\">\n",
       "<!-- Generated by graphviz version 2.43.0 (0)\n",
       " -->\n",
       "<!-- Title: G Pages: 1 -->\n",
       "<svg width=\"249pt\" height=\"108pt\"\n",
       " viewBox=\"0.00 0.00 248.60 108.00\" xmlns=\"http://www.w3.org/2000/svg\" xmlns:xlink=\"http://www.w3.org/1999/xlink\">\n",
       "<g id=\"graph0\" class=\"graph\" transform=\"scale(1 1) rotate(0) translate(4 104)\">\n",
       "<title>G</title>\n",
       "<polygon fill=\"white\" stroke=\"transparent\" points=\"-4,4 -4,-104 244.6,-104 244.6,4 -4,4\"/>\n",
       "<text text-anchor=\"middle\" x=\"120.3\" y=\"-7.8\" font-family=\"Times,serif\" font-size=\"14.00\">(a,b): 5&gt;a+b+4&#45;1</text>\n",
       "<!-- 0 -->\n",
       "<g id=\"node1\" class=\"node\">\n",
       "<title>0</title>\n",
       "<ellipse fill=\"none\" stroke=\"black\" cx=\"62.6\" cy=\"-45\" rx=\"18\" ry=\"18\"/>\n",
       "<ellipse fill=\"none\" stroke=\"black\" cx=\"62.6\" cy=\"-45\" rx=\"22\" ry=\"22\"/>\n",
       "<text text-anchor=\"middle\" x=\"62.6\" y=\"-41.9\" font-family=\"Times,serif\" font-size=\"12.00\">0</text>\n",
       "</g>\n",
       "<!-- 0&#45;&gt;0 -->\n",
       "<g id=\"edge2\" class=\"edge\">\n",
       "<title>0&#45;&gt;0</title>\n",
       "<path fill=\"none\" stroke=\"black\" d=\"M55.28,-65.99C54.38,-76.09 56.82,-85 62.6,-85 66.3,-85 68.64,-81.34 69.6,-76.06\"/>\n",
       "<polygon fill=\"black\" stroke=\"black\" points=\"73.1,-76.1 69.92,-65.99 66.1,-75.87 73.1,-76.1\"/>\n",
       "<text text-anchor=\"middle\" x=\"62.6\" y=\"-88.8\" font-family=\"Times,serif\" font-size=\"14.00\">[0,0]</text>\n",
       "</g>\n",
       "<!-- 1 -->\n",
       "<g id=\"node2\" class=\"node\">\n",
       "<title>1</title>\n",
       "<ellipse fill=\"none\" stroke=\"black\" cx=\"218.6\" cy=\"-45\" rx=\"18\" ry=\"18\"/>\n",
       "<ellipse fill=\"none\" stroke=\"black\" cx=\"218.6\" cy=\"-45\" rx=\"22\" ry=\"22\"/>\n",
       "<text text-anchor=\"middle\" x=\"218.6\" y=\"-41.9\" font-family=\"Times,serif\" font-size=\"12.00\">1</text>\n",
       "</g>\n",
       "<!-- 0&#45;&gt;1 -->\n",
       "<g id=\"edge3\" class=\"edge\">\n",
       "<title>0&#45;&gt;1</title>\n",
       "<path fill=\"none\" stroke=\"black\" d=\"M84.69,-45C110.92,-45 155.94,-45 186.23,-45\"/>\n",
       "<polygon fill=\"black\" stroke=\"black\" points=\"186.27,-48.5 196.27,-45 186.27,-41.5 186.27,-48.5\"/>\n",
       "<text text-anchor=\"middle\" x=\"140.6\" y=\"-48.8\" font-family=\"Times,serif\" font-size=\"14.00\">[1,0], [0,1]</text>\n",
       "</g>\n",
       "<!-- qi -->\n",
       "<g id=\"node3\" class=\"node\">\n",
       "<title>qi</title>\n",
       "<ellipse fill=\"black\" stroke=\"black\" cx=\"1.8\" cy=\"-45\" rx=\"1.8\" ry=\"1.8\"/>\n",
       "</g>\n",
       "<!-- qi&#45;&gt;0 -->\n",
       "<g id=\"edge1\" class=\"edge\">\n",
       "<title>qi&#45;&gt;0</title>\n",
       "<path fill=\"none\" stroke=\"black\" d=\"M3.82,-45C7.19,-45 18.44,-45 30.12,-45\"/>\n",
       "<polygon fill=\"black\" stroke=\"black\" points=\"30.31,-48.5 40.31,-45 30.31,-41.5 30.31,-48.5\"/>\n",
       "</g>\n",
       "<!-- \\n -->\n",
       "<g id=\"node4\" class=\"node\">\n",
       "<title>\\n</title>\n",
       "<ellipse fill=\"black\" stroke=\"black\" cx=\"1.8\" cy=\"-67\" rx=\"1.8\" ry=\"1.8\"/>\n",
       "</g>\n",
       "</g>\n",
       "</svg>\n"
      ],
      "text/plain": [
       "<IPython.core.display.HTML object>"
      ]
     },
     "metadata": {},
     "output_type": "display_data"
    },
    {
     "data": {
      "text/html": [
       "<?xml version=\"1.0\" encoding=\"UTF-8\" standalone=\"no\"?>\n",
       "<!DOCTYPE svg PUBLIC \"-//W3C//DTD SVG 1.1//EN\"\n",
       " \"http://www.w3.org/Graphics/SVG/1.1/DTD/svg11.dtd\">\n",
       "<!-- Generated by graphviz version 2.43.0 (0)\n",
       " -->\n",
       "<!-- Title: G Pages: 1 -->\n",
       "<svg width=\"249pt\" height=\"108pt\"\n",
       " viewBox=\"0.00 0.00 248.60 108.00\" xmlns=\"http://www.w3.org/2000/svg\" xmlns:xlink=\"http://www.w3.org/1999/xlink\">\n",
       "<g id=\"graph0\" class=\"graph\" transform=\"scale(1 1) rotate(0) translate(4 104)\">\n",
       "<title>G</title>\n",
       "<polygon fill=\"white\" stroke=\"transparent\" points=\"-4,4 -4,-104 244.6,-104 244.6,4 -4,4\"/>\n",
       "<text text-anchor=\"middle\" x=\"120.3\" y=\"-7.8\" font-family=\"Times,serif\" font-size=\"14.00\">(a,b): Ec $aux(a,b,c) &amp; 5&gt;c</text>\n",
       "<!-- 0 -->\n",
       "<g id=\"node1\" class=\"node\">\n",
       "<title>0</title>\n",
       "<ellipse fill=\"none\" stroke=\"black\" cx=\"62.6\" cy=\"-45\" rx=\"18\" ry=\"18\"/>\n",
       "<ellipse fill=\"none\" stroke=\"black\" cx=\"62.6\" cy=\"-45\" rx=\"22\" ry=\"22\"/>\n",
       "<text text-anchor=\"middle\" x=\"62.6\" y=\"-41.9\" font-family=\"Times,serif\" font-size=\"12.00\">0</text>\n",
       "</g>\n",
       "<!-- 0&#45;&gt;0 -->\n",
       "<g id=\"edge2\" class=\"edge\">\n",
       "<title>0&#45;&gt;0</title>\n",
       "<path fill=\"none\" stroke=\"black\" d=\"M55.28,-65.99C54.38,-76.09 56.82,-85 62.6,-85 66.3,-85 68.64,-81.34 69.6,-76.06\"/>\n",
       "<polygon fill=\"black\" stroke=\"black\" points=\"73.1,-76.1 69.92,-65.99 66.1,-75.87 73.1,-76.1\"/>\n",
       "<text text-anchor=\"middle\" x=\"62.6\" y=\"-88.8\" font-family=\"Times,serif\" font-size=\"14.00\">[0,0]</text>\n",
       "</g>\n",
       "<!-- 1 -->\n",
       "<g id=\"node2\" class=\"node\">\n",
       "<title>1</title>\n",
       "<ellipse fill=\"none\" stroke=\"black\" cx=\"218.6\" cy=\"-45\" rx=\"18\" ry=\"18\"/>\n",
       "<ellipse fill=\"none\" stroke=\"black\" cx=\"218.6\" cy=\"-45\" rx=\"22\" ry=\"22\"/>\n",
       "<text text-anchor=\"middle\" x=\"218.6\" y=\"-41.9\" font-family=\"Times,serif\" font-size=\"12.00\">1</text>\n",
       "</g>\n",
       "<!-- 0&#45;&gt;1 -->\n",
       "<g id=\"edge3\" class=\"edge\">\n",
       "<title>0&#45;&gt;1</title>\n",
       "<path fill=\"none\" stroke=\"black\" d=\"M84.69,-45C110.92,-45 155.94,-45 186.23,-45\"/>\n",
       "<polygon fill=\"black\" stroke=\"black\" points=\"186.27,-48.5 196.27,-45 186.27,-41.5 186.27,-48.5\"/>\n",
       "<text text-anchor=\"middle\" x=\"140.6\" y=\"-48.8\" font-family=\"Times,serif\" font-size=\"14.00\">[1,0], [0,1]</text>\n",
       "</g>\n",
       "<!-- qi -->\n",
       "<g id=\"node3\" class=\"node\">\n",
       "<title>qi</title>\n",
       "<ellipse fill=\"black\" stroke=\"black\" cx=\"1.8\" cy=\"-45\" rx=\"1.8\" ry=\"1.8\"/>\n",
       "</g>\n",
       "<!-- qi&#45;&gt;0 -->\n",
       "<g id=\"edge1\" class=\"edge\">\n",
       "<title>qi&#45;&gt;0</title>\n",
       "<path fill=\"none\" stroke=\"black\" d=\"M3.82,-45C7.19,-45 18.44,-45 30.12,-45\"/>\n",
       "<polygon fill=\"black\" stroke=\"black\" points=\"30.31,-48.5 40.31,-45 30.31,-41.5 30.31,-48.5\"/>\n",
       "</g>\n",
       "<!-- \\n -->\n",
       "<g id=\"node4\" class=\"node\">\n",
       "<title>\\n</title>\n",
       "<ellipse fill=\"black\" stroke=\"black\" cx=\"1.8\" cy=\"-67\" rx=\"1.8\" ry=\"1.8\"/>\n",
       "</g>\n",
       "</g>\n",
       "</svg>\n"
      ],
      "text/plain": [
       "<IPython.core.display.HTML object>"
      ]
     },
     "metadata": {},
     "output_type": "display_data"
    }
   ],
   "source": [
    "%showme comp\n",
    "%showme comptot"
   ]
  },
  {
   "cell_type": "markdown",
   "id": "5bece132",
   "metadata": {
    "slideshow": {
     "slide_type": "slide"
    }
   },
   "source": [
    "## Opérations arithmétiques :  faiblesse de l'associativité à gauche\n",
    "\n",
    "Les <b class=\"cool\">constantes arithmétiques</b> sont traités récursivement : \n",
    "* quel que soit le système de numération, l'automate pour le prédicat $(a):~ a=0$ est celui acceptant $0^*$.\n",
    "* $(a):~ a = n$ avec $n \\in \\mathbb{N^*}$ est équivalent à $(a):~ Eb,c~ a=b+c ~\\&~ b=n' ~\\&~ c=n''$ avec $n'=\\lfloor n \\rfloor$ et $n''=\\lceil n \\rceil$.\n",
    "\n",
    "Les opérations arithmétiques avec des constantes peuvent ainsi être traitées :\n",
    "l'automate du prédicat $(a,b):~ a=b+n$ avec $n \\in \\mathbb{N}$ est l'automate du prédicat équivalent \n",
    "$(a,b):~ Ec~ a=b+c ~\\&~ c=n$.\n",
    "\n",
    "Similairement, la multiplication est traitée comme une succession d'additions :\n",
    "le pédicat $(a,b):~ a=b*n$ avec $n \\in \\mathbb{N^*}$ est équivalent à \n",
    "$(a,b):~ Ec,d~ a=c+d ~\\&~ c=b*n' ~\\&~ d=b*n''$ avec $n'=\\lfloor n \\rfloor$ et $n''=\\lceil n \\rceil$."
   ]
  },
  {
   "cell_type": "markdown",
   "id": "a95ce8f7",
   "metadata": {
    "slideshow": {
     "slide_type": "slide"
    }
   },
   "source": [
    "⚠️ Pour Walnut, les opérations arithmétiques sont <b class=\"cool\">associatives à droite</b>. \n",
    "\n",
    "Comme les nombre traités sont des entiers naturels, \n",
    "\n",
    "ce détail trouve son importance avec la soustraction.\n",
    "\n",
    "<img style=\"display:block; position:absolute; float:right; right:0px; bottom:0px; z-index:2;\" src=\"img/arithm/tree.svg\">\n"
   ]
  },
  {
   "cell_type": "markdown",
   "id": "5ea4b435",
   "metadata": {},
   "source": [
    "#### Exemple $~(a):~ 0<=a-1+1~$ vs $~(a):~ 0<=a+1-1$"
   ]
  },
  {
   "cell_type": "code",
   "execution_count": 5,
   "id": "7034a40c",
   "metadata": {
    "slideshow": {
     "slide_type": "fragment"
    }
   },
   "outputs": [
    {
     "name": "stdout",
     "output_type": "stream",
     "text": [
      "\n",
      "\n",
      "_____\n",
      "FALSE\n",
      "\n"
     ]
    }
   ],
   "source": [
    "def right \"0<=a+1-1\";\n",
    "def wrong \"0<=a-1+1\";\n",
    "eval equiv \"Aa $right(a) <=> $wrong(a)\";"
   ]
  },
  {
   "cell_type": "code",
   "execution_count": 6,
   "id": "1626bfea",
   "metadata": {
    "slideshow": {
     "slide_type": "-"
    }
   },
   "outputs": [
    {
     "data": {
      "text/html": [
       "<?xml version=\"1.0\" encoding=\"UTF-8\" standalone=\"no\"?>\n",
       "<!DOCTYPE svg PUBLIC \"-//W3C//DTD SVG 1.1//EN\"\n",
       " \"http://www.w3.org/Graphics/SVG/1.1/DTD/svg11.dtd\">\n",
       "<!-- Generated by graphviz version 2.43.0 (0)\n",
       " -->\n",
       "<!-- Title: G Pages: 1 -->\n",
       "<svg width=\"128pt\" height=\"108pt\"\n",
       " viewBox=\"0.00 0.00 128.00 108.00\" xmlns=\"http://www.w3.org/2000/svg\" xmlns:xlink=\"http://www.w3.org/1999/xlink\">\n",
       "<g id=\"graph0\" class=\"graph\" transform=\"scale(1 1) rotate(0) translate(4 104)\">\n",
       "<title>G</title>\n",
       "<polygon fill=\"white\" stroke=\"transparent\" points=\"-4,4 -4,-104 124,-104 124,4 -4,4\"/>\n",
       "<text text-anchor=\"middle\" x=\"60\" y=\"-7.8\" font-family=\"Times,serif\" font-size=\"14.00\">(a): 0&lt;=a+1&#45;1</text>\n",
       "<!-- 0 -->\n",
       "<g id=\"node1\" class=\"node\">\n",
       "<title>0</title>\n",
       "<ellipse fill=\"none\" stroke=\"black\" cx=\"80.3\" cy=\"-45\" rx=\"18\" ry=\"18\"/>\n",
       "<ellipse fill=\"none\" stroke=\"black\" cx=\"80.3\" cy=\"-45\" rx=\"22\" ry=\"22\"/>\n",
       "<text text-anchor=\"middle\" x=\"80.3\" y=\"-41.9\" font-family=\"Times,serif\" font-size=\"12.00\">0</text>\n",
       "</g>\n",
       "<!-- 0&#45;&gt;0 -->\n",
       "<g id=\"edge2\" class=\"edge\">\n",
       "<title>0&#45;&gt;0</title>\n",
       "<path fill=\"none\" stroke=\"black\" d=\"M72.98,-65.99C72.08,-76.09 74.52,-85 80.3,-85 84,-85 86.34,-81.34 87.3,-76.06\"/>\n",
       "<polygon fill=\"black\" stroke=\"black\" points=\"90.8,-76.1 87.62,-65.99 83.8,-75.87 90.8,-76.1\"/>\n",
       "<text text-anchor=\"middle\" x=\"80.3\" y=\"-88.8\" font-family=\"Times,serif\" font-size=\"14.00\">0, 1</text>\n",
       "</g>\n",
       "<!-- qi -->\n",
       "<g id=\"node2\" class=\"node\">\n",
       "<title>qi</title>\n",
       "<ellipse fill=\"black\" stroke=\"black\" cx=\"19.5\" cy=\"-45\" rx=\"1.8\" ry=\"1.8\"/>\n",
       "</g>\n",
       "<!-- qi&#45;&gt;0 -->\n",
       "<g id=\"edge1\" class=\"edge\">\n",
       "<title>qi&#45;&gt;0</title>\n",
       "<path fill=\"none\" stroke=\"black\" d=\"M21.52,-45C24.89,-45 36.14,-45 47.82,-45\"/>\n",
       "<polygon fill=\"black\" stroke=\"black\" points=\"48.01,-48.5 58.01,-45 48.01,-41.5 48.01,-48.5\"/>\n",
       "</g>\n",
       "<!-- \\n -->\n",
       "<g id=\"node3\" class=\"node\">\n",
       "<title>\\n</title>\n",
       "<ellipse fill=\"black\" stroke=\"black\" cx=\"19.5\" cy=\"-67\" rx=\"1.8\" ry=\"1.8\"/>\n",
       "</g>\n",
       "</g>\n",
       "</svg>\n"
      ],
      "text/plain": [
       "<IPython.core.display.HTML object>"
      ]
     },
     "metadata": {},
     "output_type": "display_data"
    },
    {
     "data": {
      "text/html": [
       "<?xml version=\"1.0\" encoding=\"UTF-8\" standalone=\"no\"?>\n",
       "<!DOCTYPE svg PUBLIC \"-//W3C//DTD SVG 1.1//EN\"\n",
       " \"http://www.w3.org/Graphics/SVG/1.1/DTD/svg11.dtd\">\n",
       "<!-- Generated by graphviz version 2.43.0 (0)\n",
       " -->\n",
       "<!-- Title: G Pages: 1 -->\n",
       "<svg width=\"175pt\" height=\"108pt\"\n",
       " viewBox=\"0.00 0.00 174.60 108.00\" xmlns=\"http://www.w3.org/2000/svg\" xmlns:xlink=\"http://www.w3.org/1999/xlink\">\n",
       "<g id=\"graph0\" class=\"graph\" transform=\"scale(1 1) rotate(0) translate(4 104)\">\n",
       "<title>G</title>\n",
       "<polygon fill=\"white\" stroke=\"transparent\" points=\"-4,4 -4,-104 170.6,-104 170.6,4 -4,4\"/>\n",
       "<text text-anchor=\"middle\" x=\"83.3\" y=\"-7.8\" font-family=\"Times,serif\" font-size=\"14.00\">(a): 0&lt;=a&#45;1+1</text>\n",
       "<!-- 0 -->\n",
       "<g id=\"node1\" class=\"node\">\n",
       "<title>0</title>\n",
       "<ellipse fill=\"none\" stroke=\"black\" cx=\"58.6\" cy=\"-45\" rx=\"18\" ry=\"18\"/>\n",
       "<text text-anchor=\"middle\" x=\"58.6\" y=\"-41.9\" font-family=\"Times,serif\" font-size=\"12.00\">0</text>\n",
       "</g>\n",
       "<!-- 0&#45;&gt;0 -->\n",
       "<g id=\"edge2\" class=\"edge\">\n",
       "<title>0&#45;&gt;0</title>\n",
       "<path fill=\"none\" stroke=\"black\" d=\"M52.22,-62.04C50.92,-71.86 53.05,-81 58.6,-81 62.07,-81 64.2,-77.43 65,-72.35\"/>\n",
       "<polygon fill=\"black\" stroke=\"black\" points=\"68.5,-72.03 64.98,-62.04 61.5,-72.04 68.5,-72.03\"/>\n",
       "<text text-anchor=\"middle\" x=\"58.6\" y=\"-84.8\" font-family=\"Times,serif\" font-size=\"14.00\">0</text>\n",
       "</g>\n",
       "<!-- 1 -->\n",
       "<g id=\"node2\" class=\"node\">\n",
       "<title>1</title>\n",
       "<ellipse fill=\"none\" stroke=\"black\" cx=\"144.6\" cy=\"-45\" rx=\"18\" ry=\"18\"/>\n",
       "<ellipse fill=\"none\" stroke=\"black\" cx=\"144.6\" cy=\"-45\" rx=\"22\" ry=\"22\"/>\n",
       "<text text-anchor=\"middle\" x=\"144.6\" y=\"-41.9\" font-family=\"Times,serif\" font-size=\"12.00\">1</text>\n",
       "</g>\n",
       "<!-- 0&#45;&gt;1 -->\n",
       "<g id=\"edge3\" class=\"edge\">\n",
       "<title>0&#45;&gt;1</title>\n",
       "<path fill=\"none\" stroke=\"black\" d=\"M77,-45C87.19,-45 100.35,-45 112.28,-45\"/>\n",
       "<polygon fill=\"black\" stroke=\"black\" points=\"112.34,-48.5 122.34,-45 112.34,-41.5 112.34,-48.5\"/>\n",
       "<text text-anchor=\"middle\" x=\"99.6\" y=\"-48.8\" font-family=\"Times,serif\" font-size=\"14.00\">1</text>\n",
       "</g>\n",
       "<!-- 1&#45;&gt;1 -->\n",
       "<g id=\"edge4\" class=\"edge\">\n",
       "<title>1&#45;&gt;1</title>\n",
       "<path fill=\"none\" stroke=\"black\" d=\"M136.59,-65.58C135.49,-75.84 138.15,-85 144.6,-85 148.73,-85 151.31,-81.24 152.34,-75.84\"/>\n",
       "<polygon fill=\"black\" stroke=\"black\" points=\"155.84,-75.67 152.61,-65.58 148.85,-75.49 155.84,-75.67\"/>\n",
       "<text text-anchor=\"middle\" x=\"144.6\" y=\"-88.8\" font-family=\"Times,serif\" font-size=\"14.00\">0, 1</text>\n",
       "</g>\n",
       "<!-- qi -->\n",
       "<g id=\"node3\" class=\"node\">\n",
       "<title>qi</title>\n",
       "<ellipse fill=\"black\" stroke=\"black\" cx=\"1.8\" cy=\"-45\" rx=\"1.8\" ry=\"1.8\"/>\n",
       "</g>\n",
       "<!-- qi&#45;&gt;0 -->\n",
       "<g id=\"edge1\" class=\"edge\">\n",
       "<title>qi&#45;&gt;0</title>\n",
       "<path fill=\"none\" stroke=\"black\" d=\"M3.75,-45C7.11,-45 18.87,-45 30.55,-45\"/>\n",
       "<polygon fill=\"black\" stroke=\"black\" points=\"30.58,-48.5 40.58,-45 30.58,-41.5 30.58,-48.5\"/>\n",
       "</g>\n",
       "<!-- \\n -->\n",
       "<g id=\"node4\" class=\"node\">\n",
       "<title>\\n</title>\n",
       "<ellipse fill=\"black\" stroke=\"black\" cx=\"1.8\" cy=\"-67\" rx=\"1.8\" ry=\"1.8\"/>\n",
       "</g>\n",
       "</g>\n",
       "</svg>\n"
      ],
      "text/plain": [
       "<IPython.core.display.HTML object>"
      ]
     },
     "metadata": {},
     "output_type": "display_data"
    }
   ],
   "source": [
    "%showme right\n",
    "%showme wrong"
   ]
  },
  {
   "cell_type": "markdown",
   "id": "bb777f85",
   "metadata": {
    "slideshow": {
     "slide_type": "slide"
    }
   },
   "source": [
    "Décomposition de $~(a):~ 0<=a-1+1~$ comme il est traité par Walnut :"
   ]
  },
  {
   "cell_type": "code",
   "execution_count": 10,
   "id": "f0937629",
   "metadata": {
    "slideshow": {
     "slide_type": "-"
    }
   },
   "outputs": [
    {
     "name": "stdout",
     "output_type": "stream",
     "text": [
      "\n",
      "\n",
      "\n"
     ]
    }
   ],
   "source": [
    "def minusFirst \"b=a-1\";\n",
    "def plusSecond \"Ea c=b+1 & $minusFirst(a,b)\";\n",
    "def wrongComplete \"Ea 0<=b & $plusSecond(a,b)\";"
   ]
  },
  {
   "cell_type": "code",
   "execution_count": 9,
   "id": "5b3be1d3",
   "metadata": {
    "slideshow": {
     "slide_type": "-"
    }
   },
   "outputs": [
    {
     "data": {
      "text/html": [
       "<?xml version=\"1.0\" encoding=\"UTF-8\" standalone=\"no\"?>\n",
       "<!DOCTYPE svg PUBLIC \"-//W3C//DTD SVG 1.1//EN\"\n",
       " \"http://www.w3.org/Graphics/SVG/1.1/DTD/svg11.dtd\">\n",
       "<!-- Generated by graphviz version 2.43.0 (0)\n",
       " -->\n",
       "<!-- Title: G Pages: 1 -->\n",
       "<svg width=\"199pt\" height=\"108pt\"\n",
       " viewBox=\"0.00 0.00 198.60 108.00\" xmlns=\"http://www.w3.org/2000/svg\" xmlns:xlink=\"http://www.w3.org/1999/xlink\">\n",
       "<g id=\"graph0\" class=\"graph\" transform=\"scale(1 1) rotate(0) translate(4 104)\">\n",
       "<title>G</title>\n",
       "<polygon fill=\"white\" stroke=\"transparent\" points=\"-4,4 -4,-104 194.6,-104 194.6,4 -4,4\"/>\n",
       "<text text-anchor=\"middle\" x=\"95.3\" y=\"-7.8\" font-family=\"Times,serif\" font-size=\"14.00\">(a,b): b=a&#45;1</text>\n",
       "<!-- 0 -->\n",
       "<g id=\"node1\" class=\"node\">\n",
       "<title>0</title>\n",
       "<ellipse fill=\"none\" stroke=\"black\" cx=\"58.6\" cy=\"-45\" rx=\"18\" ry=\"18\"/>\n",
       "<text text-anchor=\"middle\" x=\"58.6\" y=\"-41.9\" font-family=\"Times,serif\" font-size=\"12.00\">0</text>\n",
       "</g>\n",
       "<!-- 0&#45;&gt;0 -->\n",
       "<g id=\"edge2\" class=\"edge\">\n",
       "<title>0&#45;&gt;0</title>\n",
       "<path fill=\"none\" stroke=\"black\" d=\"M52.22,-62.04C50.92,-71.86 53.05,-81 58.6,-81 62.07,-81 64.2,-77.43 65,-72.35\"/>\n",
       "<polygon fill=\"black\" stroke=\"black\" points=\"68.5,-72.03 64.98,-62.04 61.5,-72.04 68.5,-72.03\"/>\n",
       "<text text-anchor=\"middle\" x=\"58.6\" y=\"-84.8\" font-family=\"Times,serif\" font-size=\"14.00\">[0,0], [1,1]</text>\n",
       "</g>\n",
       "<!-- 1 -->\n",
       "<g id=\"node2\" class=\"node\">\n",
       "<title>1</title>\n",
       "<ellipse fill=\"none\" stroke=\"black\" cx=\"168.6\" cy=\"-45\" rx=\"18\" ry=\"18\"/>\n",
       "<ellipse fill=\"none\" stroke=\"black\" cx=\"168.6\" cy=\"-45\" rx=\"22\" ry=\"22\"/>\n",
       "<text text-anchor=\"middle\" x=\"168.6\" y=\"-41.9\" font-family=\"Times,serif\" font-size=\"12.00\">1</text>\n",
       "</g>\n",
       "<!-- 0&#45;&gt;1 -->\n",
       "<g id=\"edge3\" class=\"edge\">\n",
       "<title>0&#45;&gt;1</title>\n",
       "<path fill=\"none\" stroke=\"black\" d=\"M76.95,-45C92.95,-45 117.08,-45 136.42,-45\"/>\n",
       "<polygon fill=\"black\" stroke=\"black\" points=\"136.59,-48.5 146.59,-45 136.59,-41.5 136.59,-48.5\"/>\n",
       "<text text-anchor=\"middle\" x=\"111.6\" y=\"-48.8\" font-family=\"Times,serif\" font-size=\"14.00\">[1,0]</text>\n",
       "</g>\n",
       "<!-- 1&#45;&gt;1 -->\n",
       "<g id=\"edge4\" class=\"edge\">\n",
       "<title>1&#45;&gt;1</title>\n",
       "<path fill=\"none\" stroke=\"black\" d=\"M158.53,-64.76C156.82,-75.35 160.18,-85 168.6,-85 174.13,-85 177.47,-80.84 178.63,-74.99\"/>\n",
       "<polygon fill=\"black\" stroke=\"black\" points=\"182.14,-74.77 178.67,-64.76 175.14,-74.75 182.14,-74.77\"/>\n",
       "<text text-anchor=\"middle\" x=\"168.6\" y=\"-88.8\" font-family=\"Times,serif\" font-size=\"14.00\">[0,1]</text>\n",
       "</g>\n",
       "<!-- qi -->\n",
       "<g id=\"node3\" class=\"node\">\n",
       "<title>qi</title>\n",
       "<ellipse fill=\"black\" stroke=\"black\" cx=\"1.8\" cy=\"-45\" rx=\"1.8\" ry=\"1.8\"/>\n",
       "</g>\n",
       "<!-- qi&#45;&gt;0 -->\n",
       "<g id=\"edge1\" class=\"edge\">\n",
       "<title>qi&#45;&gt;0</title>\n",
       "<path fill=\"none\" stroke=\"black\" d=\"M3.75,-45C7.11,-45 18.87,-45 30.55,-45\"/>\n",
       "<polygon fill=\"black\" stroke=\"black\" points=\"30.58,-48.5 40.58,-45 30.58,-41.5 30.58,-48.5\"/>\n",
       "</g>\n",
       "<!-- \\n -->\n",
       "<g id=\"node4\" class=\"node\">\n",
       "<title>\\n</title>\n",
       "<ellipse fill=\"black\" stroke=\"black\" cx=\"1.8\" cy=\"-67\" rx=\"1.8\" ry=\"1.8\"/>\n",
       "</g>\n",
       "</g>\n",
       "</svg>\n"
      ],
      "text/plain": [
       "<IPython.core.display.HTML object>"
      ]
     },
     "metadata": {},
     "output_type": "display_data"
    },
    {
     "data": {
      "text/html": [
       "<?xml version=\"1.0\" encoding=\"UTF-8\" standalone=\"no\"?>\n",
       "<!DOCTYPE svg PUBLIC \"-//W3C//DTD SVG 1.1//EN\"\n",
       " \"http://www.w3.org/Graphics/SVG/1.1/DTD/svg11.dtd\">\n",
       "<!-- Generated by graphviz version 2.43.0 (0)\n",
       " -->\n",
       "<!-- Title: G Pages: 1 -->\n",
       "<svg width=\"279pt\" height=\"108pt\"\n",
       " viewBox=\"0.00 0.00 279.00 108.00\" xmlns=\"http://www.w3.org/2000/svg\" xmlns:xlink=\"http://www.w3.org/1999/xlink\">\n",
       "<g id=\"graph0\" class=\"graph\" transform=\"scale(1 1) rotate(0) translate(4 104)\">\n",
       "<title>G</title>\n",
       "<polygon fill=\"white\" stroke=\"transparent\" points=\"-4,4 -4,-104 275,-104 275,4 -4,4\"/>\n",
       "<text text-anchor=\"middle\" x=\"135.5\" y=\"-7.8\" font-family=\"Times,serif\" font-size=\"14.00\">(b,c): Ea c=b+1 &amp; $minusFirst(a,b)</text>\n",
       "<!-- 0 -->\n",
       "<g id=\"node1\" class=\"node\">\n",
       "<title>0</title>\n",
       "<ellipse fill=\"none\" stroke=\"black\" cx=\"98.8\" cy=\"-45\" rx=\"18\" ry=\"18\"/>\n",
       "<text text-anchor=\"middle\" x=\"98.8\" y=\"-41.9\" font-family=\"Times,serif\" font-size=\"12.00\">0</text>\n",
       "</g>\n",
       "<!-- 0&#45;&gt;0 -->\n",
       "<g id=\"edge2\" class=\"edge\">\n",
       "<title>0&#45;&gt;0</title>\n",
       "<path fill=\"none\" stroke=\"black\" d=\"M92.42,-62.04C91.12,-71.86 93.25,-81 98.8,-81 102.27,-81 104.4,-77.43 105.2,-72.35\"/>\n",
       "<polygon fill=\"black\" stroke=\"black\" points=\"108.7,-72.03 105.18,-62.04 101.7,-72.04 108.7,-72.03\"/>\n",
       "<text text-anchor=\"middle\" x=\"98.8\" y=\"-84.8\" font-family=\"Times,serif\" font-size=\"14.00\">[0,0], [1,1]</text>\n",
       "</g>\n",
       "<!-- 1 -->\n",
       "<g id=\"node2\" class=\"node\">\n",
       "<title>1</title>\n",
       "<ellipse fill=\"none\" stroke=\"black\" cx=\"208.8\" cy=\"-45\" rx=\"18\" ry=\"18\"/>\n",
       "<ellipse fill=\"none\" stroke=\"black\" cx=\"208.8\" cy=\"-45\" rx=\"22\" ry=\"22\"/>\n",
       "<text text-anchor=\"middle\" x=\"208.8\" y=\"-41.9\" font-family=\"Times,serif\" font-size=\"12.00\">1</text>\n",
       "</g>\n",
       "<!-- 0&#45;&gt;1 -->\n",
       "<g id=\"edge3\" class=\"edge\">\n",
       "<title>0&#45;&gt;1</title>\n",
       "<path fill=\"none\" stroke=\"black\" d=\"M117.15,-45C133.15,-45 157.28,-45 176.62,-45\"/>\n",
       "<polygon fill=\"black\" stroke=\"black\" points=\"176.79,-48.5 186.79,-45 176.79,-41.5 176.79,-48.5\"/>\n",
       "<text text-anchor=\"middle\" x=\"151.8\" y=\"-48.8\" font-family=\"Times,serif\" font-size=\"14.00\">[0,1]</text>\n",
       "</g>\n",
       "<!-- 1&#45;&gt;1 -->\n",
       "<g id=\"edge4\" class=\"edge\">\n",
       "<title>1&#45;&gt;1</title>\n",
       "<path fill=\"none\" stroke=\"black\" d=\"M198.73,-64.76C197.02,-75.35 200.38,-85 208.8,-85 214.33,-85 217.67,-80.84 218.83,-74.99\"/>\n",
       "<polygon fill=\"black\" stroke=\"black\" points=\"222.34,-74.77 218.87,-64.76 215.34,-74.75 222.34,-74.77\"/>\n",
       "<text text-anchor=\"middle\" x=\"208.8\" y=\"-88.8\" font-family=\"Times,serif\" font-size=\"14.00\">[1,0]</text>\n",
       "</g>\n",
       "<!-- qi -->\n",
       "<g id=\"node3\" class=\"node\">\n",
       "<title>qi</title>\n",
       "<ellipse fill=\"black\" stroke=\"black\" cx=\"42\" cy=\"-45\" rx=\"1.8\" ry=\"1.8\"/>\n",
       "</g>\n",
       "<!-- qi&#45;&gt;0 -->\n",
       "<g id=\"edge1\" class=\"edge\">\n",
       "<title>qi&#45;&gt;0</title>\n",
       "<path fill=\"none\" stroke=\"black\" d=\"M43.95,-45C47.31,-45 59.07,-45 70.75,-45\"/>\n",
       "<polygon fill=\"black\" stroke=\"black\" points=\"70.78,-48.5 80.78,-45 70.78,-41.5 70.78,-48.5\"/>\n",
       "</g>\n",
       "<!-- \\n -->\n",
       "<g id=\"node4\" class=\"node\">\n",
       "<title>\\n</title>\n",
       "<ellipse fill=\"black\" stroke=\"black\" cx=\"42\" cy=\"-67\" rx=\"1.8\" ry=\"1.8\"/>\n",
       "</g>\n",
       "</g>\n",
       "</svg>\n"
      ],
      "text/plain": [
       "<IPython.core.display.HTML object>"
      ]
     },
     "metadata": {},
     "output_type": "display_data"
    },
    {
     "data": {
      "text/html": [
       "<?xml version=\"1.0\" encoding=\"UTF-8\" standalone=\"no\"?>\n",
       "<!DOCTYPE svg PUBLIC \"-//W3C//DTD SVG 1.1//EN\"\n",
       " \"http://www.w3.org/Graphics/SVG/1.1/DTD/svg11.dtd\">\n",
       "<!-- Generated by graphviz version 2.43.0 (0)\n",
       " -->\n",
       "<!-- Title: G Pages: 1 -->\n",
       "<svg width=\"263pt\" height=\"108pt\"\n",
       " viewBox=\"0.00 0.00 263.00 108.00\" xmlns=\"http://www.w3.org/2000/svg\" xmlns:xlink=\"http://www.w3.org/1999/xlink\">\n",
       "<g id=\"graph0\" class=\"graph\" transform=\"scale(1 1) rotate(0) translate(4 104)\">\n",
       "<title>G</title>\n",
       "<polygon fill=\"white\" stroke=\"transparent\" points=\"-4,4 -4,-104 259,-104 259,4 -4,4\"/>\n",
       "<text text-anchor=\"middle\" x=\"127.5\" y=\"-7.8\" font-family=\"Times,serif\" font-size=\"14.00\">(b): Ea 0&lt;=b &amp; $plusSecond(a,b)</text>\n",
       "<!-- 0 -->\n",
       "<g id=\"node1\" class=\"node\">\n",
       "<title>0</title>\n",
       "<ellipse fill=\"none\" stroke=\"black\" cx=\"102.8\" cy=\"-45\" rx=\"18\" ry=\"18\"/>\n",
       "<text text-anchor=\"middle\" x=\"102.8\" y=\"-41.9\" font-family=\"Times,serif\" font-size=\"12.00\">0</text>\n",
       "</g>\n",
       "<!-- 0&#45;&gt;0 -->\n",
       "<g id=\"edge2\" class=\"edge\">\n",
       "<title>0&#45;&gt;0</title>\n",
       "<path fill=\"none\" stroke=\"black\" d=\"M96.42,-62.04C95.12,-71.86 97.25,-81 102.8,-81 106.27,-81 108.4,-77.43 109.2,-72.35\"/>\n",
       "<polygon fill=\"black\" stroke=\"black\" points=\"112.7,-72.03 109.18,-62.04 105.7,-72.04 112.7,-72.03\"/>\n",
       "<text text-anchor=\"middle\" x=\"102.8\" y=\"-84.8\" font-family=\"Times,serif\" font-size=\"14.00\">0</text>\n",
       "</g>\n",
       "<!-- 1 -->\n",
       "<g id=\"node2\" class=\"node\">\n",
       "<title>1</title>\n",
       "<ellipse fill=\"none\" stroke=\"black\" cx=\"188.8\" cy=\"-45\" rx=\"18\" ry=\"18\"/>\n",
       "<ellipse fill=\"none\" stroke=\"black\" cx=\"188.8\" cy=\"-45\" rx=\"22\" ry=\"22\"/>\n",
       "<text text-anchor=\"middle\" x=\"188.8\" y=\"-41.9\" font-family=\"Times,serif\" font-size=\"12.00\">1</text>\n",
       "</g>\n",
       "<!-- 0&#45;&gt;1 -->\n",
       "<g id=\"edge3\" class=\"edge\">\n",
       "<title>0&#45;&gt;1</title>\n",
       "<path fill=\"none\" stroke=\"black\" d=\"M121.2,-45C131.39,-45 144.55,-45 156.48,-45\"/>\n",
       "<polygon fill=\"black\" stroke=\"black\" points=\"156.54,-48.5 166.54,-45 156.54,-41.5 156.54,-48.5\"/>\n",
       "<text text-anchor=\"middle\" x=\"143.8\" y=\"-48.8\" font-family=\"Times,serif\" font-size=\"14.00\">1</text>\n",
       "</g>\n",
       "<!-- 1&#45;&gt;1 -->\n",
       "<g id=\"edge4\" class=\"edge\">\n",
       "<title>1&#45;&gt;1</title>\n",
       "<path fill=\"none\" stroke=\"black\" d=\"M180.79,-65.58C179.69,-75.84 182.35,-85 188.8,-85 192.93,-85 195.51,-81.24 196.54,-75.84\"/>\n",
       "<polygon fill=\"black\" stroke=\"black\" points=\"200.04,-75.67 196.81,-65.58 193.05,-75.49 200.04,-75.67\"/>\n",
       "<text text-anchor=\"middle\" x=\"188.8\" y=\"-88.8\" font-family=\"Times,serif\" font-size=\"14.00\">0, 1</text>\n",
       "</g>\n",
       "<!-- qi -->\n",
       "<g id=\"node3\" class=\"node\">\n",
       "<title>qi</title>\n",
       "<ellipse fill=\"black\" stroke=\"black\" cx=\"46\" cy=\"-45\" rx=\"1.8\" ry=\"1.8\"/>\n",
       "</g>\n",
       "<!-- qi&#45;&gt;0 -->\n",
       "<g id=\"edge1\" class=\"edge\">\n",
       "<title>qi&#45;&gt;0</title>\n",
       "<path fill=\"none\" stroke=\"black\" d=\"M47.95,-45C51.31,-45 63.07,-45 74.75,-45\"/>\n",
       "<polygon fill=\"black\" stroke=\"black\" points=\"74.78,-48.5 84.78,-45 74.78,-41.5 74.78,-48.5\"/>\n",
       "</g>\n",
       "<!-- \\n -->\n",
       "<g id=\"node4\" class=\"node\">\n",
       "<title>\\n</title>\n",
       "<ellipse fill=\"black\" stroke=\"black\" cx=\"46\" cy=\"-67\" rx=\"1.8\" ry=\"1.8\"/>\n",
       "</g>\n",
       "</g>\n",
       "</svg>\n"
      ],
      "text/plain": [
       "<IPython.core.display.HTML object>"
      ]
     },
     "metadata": {},
     "output_type": "display_data"
    }
   ],
   "source": [
    "%showme minusFirst\n",
    "%showme plusSecond\n",
    "%showme wrongComplete"
   ]
  },
  {
   "cell_type": "code",
   "execution_count": 14,
   "id": "b9767b54",
   "metadata": {
    "slideshow": {
     "slide_type": "skip"
    }
   },
   "outputs": [
    {
     "name": "stdout",
     "output_type": "stream",
     "text": [
      "\n",
      "\n",
      "\n"
     ]
    }
   ],
   "source": [
    "def plusFirst \"b=a+1\";\n",
    "def minusSecond \"Ea c=b-1 & $plusFirst(a,b)\";\n",
    "def rightComplete \"Ea 0<=b & $minusSecond(a,b)\";"
   ]
  },
  {
   "cell_type": "code",
   "execution_count": 15,
   "id": "2f62726c",
   "metadata": {
    "slideshow": {
     "slide_type": "skip"
    }
   },
   "outputs": [
    {
     "data": {
      "text/html": [
       "<?xml version=\"1.0\" encoding=\"UTF-8\" standalone=\"no\"?>\n",
       "<!DOCTYPE svg PUBLIC \"-//W3C//DTD SVG 1.1//EN\"\n",
       " \"http://www.w3.org/Graphics/SVG/1.1/DTD/svg11.dtd\">\n",
       "<!-- Generated by graphviz version 2.43.0 (0)\n",
       " -->\n",
       "<!-- Title: G Pages: 1 -->\n",
       "<svg width=\"199pt\" height=\"108pt\"\n",
       " viewBox=\"0.00 0.00 198.60 108.00\" xmlns=\"http://www.w3.org/2000/svg\" xmlns:xlink=\"http://www.w3.org/1999/xlink\">\n",
       "<g id=\"graph0\" class=\"graph\" transform=\"scale(1 1) rotate(0) translate(4 104)\">\n",
       "<title>G</title>\n",
       "<polygon fill=\"white\" stroke=\"transparent\" points=\"-4,4 -4,-104 194.6,-104 194.6,4 -4,4\"/>\n",
       "<text text-anchor=\"middle\" x=\"95.3\" y=\"-7.8\" font-family=\"Times,serif\" font-size=\"14.00\">(a,b): b=a+1</text>\n",
       "<!-- 0 -->\n",
       "<g id=\"node1\" class=\"node\">\n",
       "<title>0</title>\n",
       "<ellipse fill=\"none\" stroke=\"black\" cx=\"58.6\" cy=\"-45\" rx=\"18\" ry=\"18\"/>\n",
       "<text text-anchor=\"middle\" x=\"58.6\" y=\"-41.9\" font-family=\"Times,serif\" font-size=\"12.00\">0</text>\n",
       "</g>\n",
       "<!-- 0&#45;&gt;0 -->\n",
       "<g id=\"edge2\" class=\"edge\">\n",
       "<title>0&#45;&gt;0</title>\n",
       "<path fill=\"none\" stroke=\"black\" d=\"M52.22,-62.04C50.92,-71.86 53.05,-81 58.6,-81 62.07,-81 64.2,-77.43 65,-72.35\"/>\n",
       "<polygon fill=\"black\" stroke=\"black\" points=\"68.5,-72.03 64.98,-62.04 61.5,-72.04 68.5,-72.03\"/>\n",
       "<text text-anchor=\"middle\" x=\"58.6\" y=\"-84.8\" font-family=\"Times,serif\" font-size=\"14.00\">[0,0], [1,1]</text>\n",
       "</g>\n",
       "<!-- 1 -->\n",
       "<g id=\"node2\" class=\"node\">\n",
       "<title>1</title>\n",
       "<ellipse fill=\"none\" stroke=\"black\" cx=\"168.6\" cy=\"-45\" rx=\"18\" ry=\"18\"/>\n",
       "<ellipse fill=\"none\" stroke=\"black\" cx=\"168.6\" cy=\"-45\" rx=\"22\" ry=\"22\"/>\n",
       "<text text-anchor=\"middle\" x=\"168.6\" y=\"-41.9\" font-family=\"Times,serif\" font-size=\"12.00\">1</text>\n",
       "</g>\n",
       "<!-- 0&#45;&gt;1 -->\n",
       "<g id=\"edge3\" class=\"edge\">\n",
       "<title>0&#45;&gt;1</title>\n",
       "<path fill=\"none\" stroke=\"black\" d=\"M76.95,-45C92.95,-45 117.08,-45 136.42,-45\"/>\n",
       "<polygon fill=\"black\" stroke=\"black\" points=\"136.59,-48.5 146.59,-45 136.59,-41.5 136.59,-48.5\"/>\n",
       "<text text-anchor=\"middle\" x=\"111.6\" y=\"-48.8\" font-family=\"Times,serif\" font-size=\"14.00\">[0,1]</text>\n",
       "</g>\n",
       "<!-- 1&#45;&gt;1 -->\n",
       "<g id=\"edge4\" class=\"edge\">\n",
       "<title>1&#45;&gt;1</title>\n",
       "<path fill=\"none\" stroke=\"black\" d=\"M158.53,-64.76C156.82,-75.35 160.18,-85 168.6,-85 174.13,-85 177.47,-80.84 178.63,-74.99\"/>\n",
       "<polygon fill=\"black\" stroke=\"black\" points=\"182.14,-74.77 178.67,-64.76 175.14,-74.75 182.14,-74.77\"/>\n",
       "<text text-anchor=\"middle\" x=\"168.6\" y=\"-88.8\" font-family=\"Times,serif\" font-size=\"14.00\">[1,0]</text>\n",
       "</g>\n",
       "<!-- qi -->\n",
       "<g id=\"node3\" class=\"node\">\n",
       "<title>qi</title>\n",
       "<ellipse fill=\"black\" stroke=\"black\" cx=\"1.8\" cy=\"-45\" rx=\"1.8\" ry=\"1.8\"/>\n",
       "</g>\n",
       "<!-- qi&#45;&gt;0 -->\n",
       "<g id=\"edge1\" class=\"edge\">\n",
       "<title>qi&#45;&gt;0</title>\n",
       "<path fill=\"none\" stroke=\"black\" d=\"M3.75,-45C7.11,-45 18.87,-45 30.55,-45\"/>\n",
       "<polygon fill=\"black\" stroke=\"black\" points=\"30.58,-48.5 40.58,-45 30.58,-41.5 30.58,-48.5\"/>\n",
       "</g>\n",
       "<!-- \\n -->\n",
       "<g id=\"node4\" class=\"node\">\n",
       "<title>\\n</title>\n",
       "<ellipse fill=\"black\" stroke=\"black\" cx=\"1.8\" cy=\"-67\" rx=\"1.8\" ry=\"1.8\"/>\n",
       "</g>\n",
       "</g>\n",
       "</svg>\n"
      ],
      "text/plain": [
       "<IPython.core.display.HTML object>"
      ]
     },
     "metadata": {},
     "output_type": "display_data"
    },
    {
     "data": {
      "text/html": [
       "<?xml version=\"1.0\" encoding=\"UTF-8\" standalone=\"no\"?>\n",
       "<!DOCTYPE svg PUBLIC \"-//W3C//DTD SVG 1.1//EN\"\n",
       " \"http://www.w3.org/Graphics/SVG/1.1/DTD/svg11.dtd\">\n",
       "<!-- Generated by graphviz version 2.43.0 (0)\n",
       " -->\n",
       "<!-- Title: G Pages: 1 -->\n",
       "<svg width=\"258pt\" height=\"108pt\"\n",
       " viewBox=\"0.00 0.00 258.00 108.00\" xmlns=\"http://www.w3.org/2000/svg\" xmlns:xlink=\"http://www.w3.org/1999/xlink\">\n",
       "<g id=\"graph0\" class=\"graph\" transform=\"scale(1 1) rotate(0) translate(4 104)\">\n",
       "<title>G</title>\n",
       "<polygon fill=\"white\" stroke=\"transparent\" points=\"-4,4 -4,-104 254,-104 254,4 -4,4\"/>\n",
       "<text text-anchor=\"middle\" x=\"125\" y=\"-7.8\" font-family=\"Times,serif\" font-size=\"14.00\">(b,c): Ea c=b&#45;1 &amp; $plusFirst(a,b)</text>\n",
       "<!-- 0 -->\n",
       "<g id=\"node1\" class=\"node\">\n",
       "<title>0</title>\n",
       "<ellipse fill=\"none\" stroke=\"black\" cx=\"88.3\" cy=\"-45\" rx=\"18\" ry=\"18\"/>\n",
       "<text text-anchor=\"middle\" x=\"88.3\" y=\"-41.9\" font-family=\"Times,serif\" font-size=\"12.00\">0</text>\n",
       "</g>\n",
       "<!-- 0&#45;&gt;0 -->\n",
       "<g id=\"edge2\" class=\"edge\">\n",
       "<title>0&#45;&gt;0</title>\n",
       "<path fill=\"none\" stroke=\"black\" d=\"M81.92,-62.04C80.62,-71.86 82.75,-81 88.3,-81 91.77,-81 93.9,-77.43 94.7,-72.35\"/>\n",
       "<polygon fill=\"black\" stroke=\"black\" points=\"98.2,-72.03 94.68,-62.04 91.2,-72.04 98.2,-72.03\"/>\n",
       "<text text-anchor=\"middle\" x=\"88.3\" y=\"-84.8\" font-family=\"Times,serif\" font-size=\"14.00\">[0,0], [1,1]</text>\n",
       "</g>\n",
       "<!-- 1 -->\n",
       "<g id=\"node2\" class=\"node\">\n",
       "<title>1</title>\n",
       "<ellipse fill=\"none\" stroke=\"black\" cx=\"198.3\" cy=\"-45\" rx=\"18\" ry=\"18\"/>\n",
       "<ellipse fill=\"none\" stroke=\"black\" cx=\"198.3\" cy=\"-45\" rx=\"22\" ry=\"22\"/>\n",
       "<text text-anchor=\"middle\" x=\"198.3\" y=\"-41.9\" font-family=\"Times,serif\" font-size=\"12.00\">1</text>\n",
       "</g>\n",
       "<!-- 0&#45;&gt;1 -->\n",
       "<g id=\"edge3\" class=\"edge\">\n",
       "<title>0&#45;&gt;1</title>\n",
       "<path fill=\"none\" stroke=\"black\" d=\"M106.65,-45C122.65,-45 146.78,-45 166.12,-45\"/>\n",
       "<polygon fill=\"black\" stroke=\"black\" points=\"166.29,-48.5 176.29,-45 166.29,-41.5 166.29,-48.5\"/>\n",
       "<text text-anchor=\"middle\" x=\"141.3\" y=\"-48.8\" font-family=\"Times,serif\" font-size=\"14.00\">[1,0]</text>\n",
       "</g>\n",
       "<!-- 1&#45;&gt;1 -->\n",
       "<g id=\"edge4\" class=\"edge\">\n",
       "<title>1&#45;&gt;1</title>\n",
       "<path fill=\"none\" stroke=\"black\" d=\"M188.23,-64.76C186.52,-75.35 189.88,-85 198.3,-85 203.83,-85 207.17,-80.84 208.33,-74.99\"/>\n",
       "<polygon fill=\"black\" stroke=\"black\" points=\"211.84,-74.77 208.37,-64.76 204.84,-74.75 211.84,-74.77\"/>\n",
       "<text text-anchor=\"middle\" x=\"198.3\" y=\"-88.8\" font-family=\"Times,serif\" font-size=\"14.00\">[0,1]</text>\n",
       "</g>\n",
       "<!-- qi -->\n",
       "<g id=\"node3\" class=\"node\">\n",
       "<title>qi</title>\n",
       "<ellipse fill=\"black\" stroke=\"black\" cx=\"31.5\" cy=\"-45\" rx=\"1.8\" ry=\"1.8\"/>\n",
       "</g>\n",
       "<!-- qi&#45;&gt;0 -->\n",
       "<g id=\"edge1\" class=\"edge\">\n",
       "<title>qi&#45;&gt;0</title>\n",
       "<path fill=\"none\" stroke=\"black\" d=\"M33.45,-45C36.81,-45 48.57,-45 60.25,-45\"/>\n",
       "<polygon fill=\"black\" stroke=\"black\" points=\"60.28,-48.5 70.28,-45 60.28,-41.5 60.28,-48.5\"/>\n",
       "</g>\n",
       "<!-- \\n -->\n",
       "<g id=\"node4\" class=\"node\">\n",
       "<title>\\n</title>\n",
       "<ellipse fill=\"black\" stroke=\"black\" cx=\"31.5\" cy=\"-67\" rx=\"1.8\" ry=\"1.8\"/>\n",
       "</g>\n",
       "</g>\n",
       "</svg>\n"
      ],
      "text/plain": [
       "<IPython.core.display.HTML object>"
      ]
     },
     "metadata": {},
     "output_type": "display_data"
    },
    {
     "data": {
      "text/html": [
       "<?xml version=\"1.0\" encoding=\"UTF-8\" standalone=\"no\"?>\n",
       "<!DOCTYPE svg PUBLIC \"-//W3C//DTD SVG 1.1//EN\"\n",
       " \"http://www.w3.org/Graphics/SVG/1.1/DTD/svg11.dtd\">\n",
       "<!-- Generated by graphviz version 2.43.0 (0)\n",
       " -->\n",
       "<!-- Title: G Pages: 1 -->\n",
       "<svg width=\"277pt\" height=\"108pt\"\n",
       " viewBox=\"0.00 0.00 277.00 108.00\" xmlns=\"http://www.w3.org/2000/svg\" xmlns:xlink=\"http://www.w3.org/1999/xlink\">\n",
       "<g id=\"graph0\" class=\"graph\" transform=\"scale(1 1) rotate(0) translate(4 104)\">\n",
       "<title>G</title>\n",
       "<polygon fill=\"white\" stroke=\"transparent\" points=\"-4,4 -4,-104 273,-104 273,4 -4,4\"/>\n",
       "<text text-anchor=\"middle\" x=\"134.5\" y=\"-7.8\" font-family=\"Times,serif\" font-size=\"14.00\">(b): Ea 0&lt;=b &amp; $minusSecond(a,b)</text>\n",
       "<!-- 0 -->\n",
       "<g id=\"node1\" class=\"node\">\n",
       "<title>0</title>\n",
       "<ellipse fill=\"none\" stroke=\"black\" cx=\"154.8\" cy=\"-45\" rx=\"18\" ry=\"18\"/>\n",
       "<ellipse fill=\"none\" stroke=\"black\" cx=\"154.8\" cy=\"-45\" rx=\"22\" ry=\"22\"/>\n",
       "<text text-anchor=\"middle\" x=\"154.8\" y=\"-41.9\" font-family=\"Times,serif\" font-size=\"12.00\">0</text>\n",
       "</g>\n",
       "<!-- 0&#45;&gt;0 -->\n",
       "<g id=\"edge2\" class=\"edge\">\n",
       "<title>0&#45;&gt;0</title>\n",
       "<path fill=\"none\" stroke=\"black\" d=\"M147.48,-65.99C146.58,-76.09 149.02,-85 154.8,-85 158.5,-85 160.84,-81.34 161.8,-76.06\"/>\n",
       "<polygon fill=\"black\" stroke=\"black\" points=\"165.3,-76.1 162.12,-65.99 158.3,-75.87 165.3,-76.1\"/>\n",
       "<text text-anchor=\"middle\" x=\"154.8\" y=\"-88.8\" font-family=\"Times,serif\" font-size=\"14.00\">0, 1</text>\n",
       "</g>\n",
       "<!-- qi -->\n",
       "<g id=\"node2\" class=\"node\">\n",
       "<title>qi</title>\n",
       "<ellipse fill=\"black\" stroke=\"black\" cx=\"94\" cy=\"-45\" rx=\"1.8\" ry=\"1.8\"/>\n",
       "</g>\n",
       "<!-- qi&#45;&gt;0 -->\n",
       "<g id=\"edge1\" class=\"edge\">\n",
       "<title>qi&#45;&gt;0</title>\n",
       "<path fill=\"none\" stroke=\"black\" d=\"M96.02,-45C99.39,-45 110.64,-45 122.32,-45\"/>\n",
       "<polygon fill=\"black\" stroke=\"black\" points=\"122.51,-48.5 132.51,-45 122.51,-41.5 122.51,-48.5\"/>\n",
       "</g>\n",
       "<!-- \\n -->\n",
       "<g id=\"node3\" class=\"node\">\n",
       "<title>\\n</title>\n",
       "<ellipse fill=\"black\" stroke=\"black\" cx=\"94\" cy=\"-67\" rx=\"1.8\" ry=\"1.8\"/>\n",
       "</g>\n",
       "</g>\n",
       "</svg>\n"
      ],
      "text/plain": [
       "<IPython.core.display.HTML object>"
      ]
     },
     "metadata": {},
     "output_type": "display_data"
    }
   ],
   "source": [
    "%showme plusFirst\n",
    "%showme minusSecond\n",
    "%showme rightComplete"
   ]
  },
  {
   "cell_type": "markdown",
   "id": "e0b4f548",
   "metadata": {
    "slideshow": {
     "slide_type": "slide"
    }
   },
   "source": [
    "## Plan de route"
   ]
  },
  {
   "cell_type": "markdown",
   "id": "35491898",
   "metadata": {
    "slideshow": {
     "slide_type": "-"
    }
   },
   "source": [
    "* <span class=\"gray\">Les opérations sur les prédicats,</span>\n",
    "    * <span class=\"gray\">Les opérateurs de logique d'arité 2</span>\n",
    "    * <span class=\"gray\">la négation</span>\n",
    "    * <span class=\"gray\">La quantification</span>\n",
    "* <span class=\"gray\">Les opérations sur les termes arithmétiques,</span>\n",
    "* <b class=\"cool\">L'appel à des prédicats préfinis,</b>\n",
    "* <span class=\"\">Les opérations sur les termes d'indexation de mots automatiques.</span>"
   ]
  },
  {
   "cell_type": "markdown",
   "id": "d9e2cfdf",
   "metadata": {
    "slideshow": {
     "slide_type": "slide"
    }
   },
   "source": [
    "## Appel d'un prédicat prédéfini\n",
    "\n",
    "Comme indiqué précedemment, Walnut crée des automates intermédiares pour chaque sous formule dont il a besoin pour traiter un prédicat. Le mot clef <b class=\"cool\"> def </b> permet de stoquer l'automate correspondant au prédicat traité et ainsi éviter d'avoir à reconstruire ces automates intermédiaires. Ces prédicats enregistrés peuvent être appelés au moyen d'un <b class=\"cool\"> $ </b>."
   ]
  },
  {
   "cell_type": "markdown",
   "id": "96e49dc0",
   "metadata": {
    "slideshow": {
     "slide_type": "-"
    }
   },
   "source": [
    "L'appel de l'automate $M$ d'un prédicat $P(x_1, \\cdots, x_n)$ s'écrit donc $ \\$M(e_1, \\cdots, e_n)$ avec $e_i$ un terme arithmétique ou un prédicat avec une seule variable libre et l'automate correspondant à cet appel est celui résultant des opérations :\n",
    "\n",
    "$\\text{E} x_1, \\cdots, x_n~~ P ~\\&~ (x_1=e_1') ~\\&~ \\cdots ~\\&~ (x_n=e_n') ~\\&~ e_{j_1} ~\\&~ \\cdots ~\\&~ e_{j_k}$ avec\n",
    "\n",
    "* $x_1, \\cdots, x_n$ les variables libres de $P$,\n",
    "* $j_1, \\cdots, j_k$ les indices des $k$ prédicats parmi $e_1, \\cdots, e_n$,\n",
    "* pour $1 \\leq i \\leq n,~ e_i'=e_i$ si $e_i$ est un terme arithmétique et $e_i'=$ la variable libre de $e_i$ si $e_i$ est un prédicat."
   ]
  },
  {
   "cell_type": "code",
   "execution_count": 63,
   "id": "4dbecd13",
   "metadata": {
    "slideshow": {
     "slide_type": "-"
    }
   },
   "outputs": [
    {
     "name": "stdout",
     "output_type": "stream",
     "text": [
      "\n",
      "computing factorEq(...)\n",
      " fixing leading zeros:14 states\n",
      "  determinizing:14 states\n",
      "  determinized:14 states - 0ms\n",
      "-----   Minimizing: 14 states.\n",
      "   determinizing:14 states\n",
      "   determinized:14 states - 0ms\n",
      "-----   Minimized:14 states - 0ms.\n",
      "  Minimized:14 states - 0ms.\n",
      " fixed leading zeros:14 states - 0ms\n",
      "computed factorEq(i,j,n))\n",
      "Total computation time: 1ms.\n",
      "\n"
     ]
    }
   ],
   "source": [
    "def factorEq \"Ak k<n => T[i+k]=T[j+k]\";\n",
    "eval factor \"$factorEq(i,j,n)\"::"
   ]
  },
  {
   "cell_type": "markdown",
   "id": "1528c61b",
   "metadata": {
    "slideshow": {
     "slide_type": "slide"
    }
   },
   "source": [
    "## Plan de route"
   ]
  },
  {
   "cell_type": "markdown",
   "id": "16697a11",
   "metadata": {
    "slideshow": {
     "slide_type": "-"
    }
   },
   "source": [
    "* <span class=\"gray\">Les opérations sur les prédicats,</span>\n",
    "    * <span class=\"gray\">Les opérateurs de logique d'arité 2</span>\n",
    "    * <span class=\"gray\">la négation</span>\n",
    "    * <span class=\"gray\">La quantification</span>\n",
    "* <span class=\"gray\">Les opérations sur les termes arithmétiques,</span>\n",
    "* <span class=\"gray\">L'appel à des prédicats préfinis,</span>\n",
    "* <b class=\"cool\">Les opérations sur les termes d'indexation de mots automatiques.</b>"
   ]
  },
  {
   "cell_type": "markdown",
   "id": "59bdcd48",
   "metadata": {
    "slideshow": {
     "slide_type": "slide"
    }
   },
   "source": [
    "## Indexation des suites automatiques\n",
    "\n",
    "Pour Walnut, une suite automatique est un <b class=\"cool\">automate fini déterminite à sortie</b>.\n",
    "Ainsi un suite $W$ est représentée par un DFAO $M = (Q, \\S{1}, \\cdots, \\S{n},\\Gamma, q_0, \\delta, \\pi)$ avec \n",
    "\n",
    "* $Q$ son ensemble fini des états,\n",
    "* $\\S{i}$ l'alphabet de $S_i$ avec $1 \\leq i \\leq n$ et où $S_i$ est le système de numération la $i$-ème dimension,\n",
    "* $\\Gamma$ son alphabet fini de sortie,\n",
    "* $q_0 \\in Q$ son état initial,\n",
    "* $\\delta : Q \\times \\S{1} \\times \\cdots \\times \\S{n} \\rightarrow Q$ sa fonction de transition,\n",
    "* $\\pi : Q \\rightarrow \\Gamma$ sa fonction de sortie."
   ]
  },
  {
   "cell_type": "markdown",
   "id": "412d8026",
   "metadata": {
    "slideshow": {
     "slide_type": "-"
    }
   },
   "source": [
    "Dans Walnut les prédicats sont des DFA, un prédicat peut être obtenu \n",
    "\n",
    "L'automate représentant la formule $(x_1, \\cdots, x_n):~ W[x_1]\\cdots[x_n] = @a$ avec $a \\in \\Gamma$ est le DFA correspondant à la minimisation de $A = (Q, \\S{1}, \\cdots, \\S{n}, q_0, F, \\delta)$ avec \n",
    "\n",
    "* $F = \\lbrace q ~|~ \\pi(q)=a \\rbrace$\n",
    "\n",
    "On peut désormais utiliser tous les outils définis précédement pour traiter les suites automatiques.\n",
    "\n",
    "Le produit synchronisé notamment est étendu sur les DFAO avec $\\pi''$ la fonction de production du produit de deux DFAO (de fct de prod. $\\pi$ et $\\pi'$) :\n",
    "\n",
    "$\\pi'' : Q \\times Q' \\rightarrow \\Gamma''$\n",
    "\n",
    "<span class=\"trans\"> $\\pi'':$</span> $(q,q') \\mapsto \\pi(q) \\diamond \\pi'(q')$"
   ]
  },
  {
   "cell_type": "code",
   "execution_count": 12,
   "id": "e7bcce5e",
   "metadata": {
    "slideshow": {
     "slide_type": "skip"
    }
   },
   "outputs": [
    {
     "name": "stdout",
     "output_type": "stream",
     "text": [
      "T[0]=@0:2 states - 1ms\r\n",
      "Total computation time: 1ms.\r\n",
      "____\r\n",
      "TRUE\r\n",
      "\r\n"
     ]
    }
   ],
   "source": [
    "eval test \"T[0] * T[1]=@0\":"
   ]
  },
  {
   "cell_type": "code",
   "execution_count": 1,
   "id": "900a3f5e",
   "metadata": {
    "slideshow": {
     "slide_type": "skip"
    }
   },
   "outputs": [
    {
     "name": "stdout",
     "output_type": "stream",
     "text": [
      "\n",
      "k<n:2 states - 0ms\n",
      "computed ~:1 states - 13ms\n",
      "computed ~:1 states - 1ms\n",
      "computed ~:2 states - 2ms\n",
      " T[(i+k)]:5 states - 24ms\n",
      "  T[(j+k)]:5 states - 3ms\n",
      "   (T[(i+k)]&T[(j+k)]):17 states - 3ms\n",
      "    (E x (T[(i+k)]&T[(j+k)])):8 states - 3ms\n",
      "     (k<n=>(E x (T[(i+k)]&T[(j+k)]))):17 states - 4ms\n",
      "      (A k (k<n=>(E x (T[(i+k)]&T[(j+k)])))):14 states - 29ms\n",
      "Total computation time: 66ms.\n",
      "\n",
      "(factorEq(i,j,n))<=>factorBis(i,j,n))):1 states - 2ms\n",
      " (A i , j , n (factorEq(i,j,n))<=>factorBis(i,j,n)))):1 states - 1ms\n",
      "Total computation time: 6ms.\n",
      "____\n",
      "TRUE\n",
      "\n"
     ]
    }
   ],
   "source": [
    "def factorEq \"Ak k<n => T[i+k]=T[j+k]\";\n",
    "def factorBis \"Ak k<n => (Ex T[i+k]=x & T[j+k]=x)\":\n",
    "eval equiv \"Ai,j,n $factorEq(i,j,n) <=> $factorBis(i,j,n)\":"
   ]
  },
  {
   "cell_type": "markdown",
   "id": "90adde10",
   "metadata": {
    "slideshow": {
     "slide_type": "slide"
    }
   },
   "source": [
    "## Conclusion\n",
    "\n",
    "Pour résumer, voici une décomposition de la construction de l'automate d'un prédicat par Walnut :"
   ]
  },
  {
   "cell_type": "code",
   "execution_count": 33,
   "id": "350cc70f",
   "metadata": {
    "slideshow": {
     "slide_type": "-"
    }
   },
   "outputs": [
    {
     "name": "stdout",
     "output_type": "stream",
     "text": [
      "\r\n"
     ]
    }
   ],
   "source": [
    "def factorEq \"Ak k<n => T[i+k]=T[j+k]\";"
   ]
  },
  {
   "cell_type": "code",
   "execution_count": 37,
   "id": "f6b5546e",
   "metadata": {
    "slideshow": {
     "slide_type": "-"
    }
   },
   "outputs": [
    {
     "name": "stdout",
     "output_type": "stream",
     "text": [
      "\n",
      "\n",
      "\n",
      "\n",
      "\n",
      "\n"
     ]
    }
   ],
   "source": [
    "def plus \"z=i+k\";\n",
    "def thue \"Ex z=T[x] & $plus(i,k,x)\";\n",
    "def eq \"$thue(i,k,z) & $thue(j,k,z)\";\n",
    "def inf \"k<n\";\n",
    "def implique \"Ez $inf(k,n) => $eq(i,j,k,z)\";\n",
    "def forall \"Ak $implique(i,j,k,n)\";"
   ]
  },
  {
   "cell_type": "code",
   "execution_count": 41,
   "id": "12c22a6b",
   "metadata": {
    "slideshow": {
     "slide_type": "-"
    }
   },
   "outputs": [
    {
     "name": "stdout",
     "output_type": "stream",
     "text": [
      "____\r\n",
      "TRUE\r\n",
      "\r\n"
     ]
    }
   ],
   "source": [
    "eval same \"Ai,j,n $factorEq(i,j,n) <=> $forall(i,j,n)\";"
   ]
  },
  {
   "cell_type": "code",
   "execution_count": null,
   "id": "a4b0f2f2",
   "metadata": {
    "slideshow": {
     "slide_type": "skip"
    }
   },
   "outputs": [],
   "source": []
  }
 ],
 "metadata": {
  "celltoolbar": "Diaporama",
  "kernelspec": {
   "display_name": "Walnut",
   "language": "",
   "name": "data"
  },
  "language_info": {
   "file_extension": ".walnut",
   "language": "walnut",
   "mimetype": "text/x-walnut",
   "name": "walnutkernel"
  },
  "rise": {
   "autolaunch": true,
   "chalkboard": {
    "readOnly": false
   },
   "enable_chalkboard": true,
   "reveal_shortcuts": {
    "chalkboard": {
     "colorNext": "s",
     "colorPrev": "q",
     "toggleChalkboard": "a",
     "toggleNotesCanvas": "z"
    }
   },
   "scroll": true,
   "theme": "white",
   "transition": "none"
  }
 },
 "nbformat": 4,
 "nbformat_minor": 5
}
